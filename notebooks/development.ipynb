{
 "cells": [
  {
   "cell_type": "markdown",
   "metadata": {},
   "source": [
    "# notion to todoist development notebook"
   ]
  },
  {
   "cell_type": "code",
   "execution_count": 1,
   "metadata": {},
   "outputs": [],
   "source": [
    "import os\n",
    "import sys\n",
    "import notion\n",
    "from notion.client import NotionClient\n",
    "from todoist.api import TodoistAPI\n",
    "\n",
    "sys.path.insert(1, '/Users/jarredgreen/PycharmProjects/notion-to-doist/notion2doist')\n",
    "import tools\n",
    "from bidict import bidict\n",
    "from datetime import datetime, timezone, timedelta"
   ]
  },
  {
   "cell_type": "code",
   "execution_count": 2,
   "metadata": {},
   "outputs": [],
   "source": [
    "%load_ext autoreload\n",
    "%autoreload 2"
   ]
  },
  {
   "cell_type": "code",
   "execution_count": 7,
   "metadata": {},
   "outputs": [],
   "source": [
    "todoist_token = \"1aa330c1397a63ce19baba1c3401c42af9bbaa08\"\n",
    "notion_token = \"a2ae36c266053a72fc564b418a1f578d736228f614ab5925be62f22383894f550dd53004bb48005e699e101a94e00008d23fd6eff24286a48f62f943d3e427ddb14092ffcf94df25e58dd939bfc8\"\n",
    "notion_settings = \"https://www.notion.so/jarredgreen/c1c3fea02d4c4a52bfece58af9c407c3?v=ad00b0ae035344caa12f664c7efe7d77\""
   ]
  },
  {
   "cell_type": "code",
   "execution_count": 11,
   "metadata": {},
   "outputs": [
    {
     "name": "stdout",
     "output_type": "stream",
     "text": [
      "Sync configuration updated.\n"
     ]
    }
   ],
   "source": [
    "man = tools.syncManager(\n",
    "    todoist_token=todoist_token,\n",
    "    notion_token=notion_token,\n",
    "    notion_settings_url=notion_settings\n",
    ")"
   ]
  },
  {
   "cell_type": "code",
   "execution_count": 12,
   "metadata": {},
   "outputs": [],
   "source": [
    "man.sync_todoist_api()\n",
    "for item in man.api.items.all():\n",
    "    #print(item[\"content\"], item[\"id\"], item[\"checked\"])\n",
    "    item.delete()"
   ]
  },
  {
   "cell_type": "code",
   "execution_count": 13,
   "metadata": {},
   "outputs": [],
   "source": [
    "man.commit_todoist_api()"
   ]
  },
  {
   "cell_type": "markdown",
   "metadata": {},
   "source": [
    "## Testing sync functions"
   ]
  },
  {
   "cell_type": "code",
   "execution_count": 130,
   "metadata": {},
   "outputs": [
    {
     "name": "stdout",
     "output_type": "stream",
     "text": [
      "Sync configuration updated.\n"
     ]
    }
   ],
   "source": [
    "man.sync_config()"
   ]
  },
  {
   "cell_type": "code",
   "execution_count": 14,
   "metadata": {},
   "outputs": [
    {
     "name": "stdout",
     "output_type": "stream",
     "text": [
      "Syncing labels...\n",
      "Done syncing labels. 0 label(s) added and 0 label(s) updated\n"
     ]
    }
   ],
   "source": [
    "tools.labelManager.sync_labels_to_todoist(man)"
   ]
  },
  {
   "cell_type": "code",
   "execution_count": 52,
   "metadata": {},
   "outputs": [
    {
     "name": "stdout",
     "output_type": "stream",
     "text": [
      "Syncing projects...\n",
      "Adding notion project ID for task: Project 1\n",
      "Adding notion project ID for task: Project 2\n",
      "Adding notion project ID for task: Project 3\n",
      "Done syncing projects. 0 project(s) added and 0 projects(s) updated\n"
     ]
    }
   ],
   "source": [
    "tools.projectManager.sync_projects(man)"
   ]
  },
  {
   "cell_type": "markdown",
   "metadata": {},
   "source": [
    "Task G ID: 4251791466"
   ]
  },
  {
   "cell_type": "code",
   "execution_count": 80,
   "metadata": {},
   "outputs": [
    {
     "name": "stdout",
     "output_type": "stream",
     "text": [
      "Syncing notion tasks to todoist...\n",
      "Task: \"Task D\": no change\n",
      "Task: \"Task F\": no change\n",
      "Task: \"Task E\"\n",
      "    label_ids: t̶o̶d̶o̶i̶s̶t̶:̶ ̶[̶2̶1̶5̶5̶3̶3̶5̶5̶5̶0̶,̶ ̶2̶1̶5̶5̶3̶0̶5̶7̶3̶1̶]̶ ⮕ notion: [2155335550, 2155305731, 2155305730]\n",
      "    label_names: t̶o̶d̶o̶i̶s̶t̶:̶ ̶[̶'̶W̶a̶i̶t̶i̶n̶g̶'̶,̶ ̶'̶q̶u̶i̶c̶k̶'̶]̶ ⮕ notion: ['Waiting', 'quick', 'email']\n",
      "Task: \"Task B\": no change\n",
      "Task: \"Task C\": no change\n",
      "Task: \"Task A\": no change\n",
      "Added 0 and updated 1 tasks.\n"
     ]
    }
   ],
   "source": [
    "tools.taskManager.sync_notion_to_todoist(man)"
   ]
  },
  {
   "cell_type": "code",
   "execution_count": 47,
   "metadata": {},
   "outputs": [],
   "source": [
    "taskg = man.api.items.get_by_id(4251791466)\n",
    "itemg = tools.taskManager.from_todoist(man, taskg)\n",
    "rowg = man.tasks.collection.get_rows(search=\"Task G\")[0]\n",
    "notiong = tools.taskManager.from_notion(man, rowg)"
   ]
  },
  {
   "cell_type": "code",
   "execution_count": 82,
   "metadata": {},
   "outputs": [
    {
     "name": "stdout",
     "output_type": "stream",
     "text": [
      "\n",
      "\n",
      "item:updated: new sync data:\n",
      "[4254504312] \n",
      " {'collaborator_states': [], 'collaborators': [], 'day_orders': {}, 'day_orders_timestamp': '1344642991.1', 'due_exceptions': [], 'filters': [], 'full_sync': False, 'items': [{'added_by_uid': 30222014, 'assigned_by_uid': None, 'checked': 0, 'child_order': 4, 'collapsed': 0, 'content': 'Task H', 'date_added': '2020-10-14T10:52:44Z', 'date_completed': None, 'day_order': -1, 'due': {'date': '2020-10-17', 'is_recurring': False, 'lang': 'en', 'string': '17 Oct', 'timezone': None}, 'id': 4254504312, 'in_history': 0, 'is_deleted': 0, 'labels': [2155335549, 2155305731], 'parent_id': None, 'priority': 1, 'project_id': 2246872891, 'responsible_uid': None, 'section_id': None, 'sync_id': None, 'user_id': 30222014}], 'labels': [], 'live_notifications': [], 'live_notifications_last_read_id': 0, 'notes': [], 'project_notes': [], 'projects': [], 'reminders': [], 'sections': [], 'sync_token': 'gAEXhbpzWCP4m1eIc6WPLFvVFNL00N2v7I6O7OJxuwb1SYJTnQW1e1mNYnqO6ObRzjtSWFXRHl1JJL_p20PkNvqBKU9mTAmIPJVLKJ4FVYUDuZo', 'temp_id_mapping': {}, 'view_options': []} \n",
      "\n",
      "\n",
      "Adding item \"Task H\":Imported task Task H with labels ['Todo', 'quick'].\n"
     ]
    }
   ],
   "source": [
    "tools.taskManager.webhook_arrived(man, {\"event_name\": \"item:updated\"})"
   ]
  },
  {
   "cell_type": "markdown",
   "metadata": {},
   "source": [
    "## Current tests"
   ]
  },
  {
   "cell_type": "markdown",
   "metadata": {},
   "source": [
    "### encrpytion"
   ]
  },
  {
   "cell_type": "code",
   "execution_count": 22,
   "metadata": {},
   "outputs": [],
   "source": [
    "import base64\n",
    "import hashlib\n",
    "import hmac"
   ]
  },
  {
   "cell_type": "code",
   "execution_count": 48,
   "metadata": {},
   "outputs": [],
   "source": [
    "def compute_hmac(body):\n",
    "\n",
    "    signature = base64.b64encode(hmac.new(\n",
    "        \"secretpassword\".encode('utf-8'),\n",
    "        body.encode('utf-8'),\n",
    "        digestmod=hashlib.sha256).digest()).decode('utf-8')\n",
    "    return signature"
   ]
  },
  {
   "cell_type": "code",
   "execution_count": 57,
   "metadata": {},
   "outputs": [
    {
     "data": {
      "text/plain": [
       "'aBDj5zLaMcPbTGSYGXwErGT3Cq9zRX4QoKRet+YrE30='"
      ]
     },
     "execution_count": 57,
     "metadata": {},
     "output_type": "execute_result"
    }
   ],
   "source": [
    "compute_hmac(\"test\")"
   ]
  },
  {
   "cell_type": "markdown",
   "metadata": {},
   "source": [
    "### testing todoist-python"
   ]
  },
  {
   "cell_type": "code",
   "execution_count": 2,
   "metadata": {},
   "outputs": [],
   "source": [
    "from pytodoist import todoist"
   ]
  },
  {
   "cell_type": "code",
   "execution_count": 3,
   "metadata": {},
   "outputs": [],
   "source": [
    "user = todoist.login('astrojarred@gmail.com', 'pseg7PARD*crun0nead')"
   ]
  },
  {
   "cell_type": "code",
   "execution_count": 4,
   "metadata": {},
   "outputs": [],
   "source": [
    "projects = user.get_project()"
   ]
  },
  {
   "cell_type": "code",
   "execution_count": 15,
   "metadata": {},
   "outputs": [],
   "source": [
    "tasks = user.get_tasks()"
   ]
  },
  {
   "cell_type": "code",
   "execution_count": 23,
   "metadata": {},
   "outputs": [],
   "source": [
    "t1 = tasks[0]"
   ]
  },
  {
   "cell_type": "code",
   "execution_count": 37,
   "metadata": {},
   "outputs": [],
   "source": [
    "t1.content = 'Task JJ'"
   ]
  },
  {
   "cell_type": "code",
   "execution_count": 38,
   "metadata": {},
   "outputs": [],
   "source": [
    "t1.update()"
   ]
  },
  {
   "cell_type": "code",
   "execution_count": null,
   "metadata": {},
   "outputs": [],
   "source": [
    "user.update()"
   ]
  }
 ],
 "metadata": {
  "kernelspec": {
   "display_name": "notion",
   "language": "python",
   "name": "notion"
  },
  "language_info": {
   "codemirror_mode": {
    "name": "ipython",
    "version": 3
   },
   "file_extension": ".py",
   "mimetype": "text/x-python",
   "name": "python",
   "nbconvert_exporter": "python",
   "pygments_lexer": "ipython3",
   "version": "3.7.8"
  }
 },
 "nbformat": 4,
 "nbformat_minor": 2
}
