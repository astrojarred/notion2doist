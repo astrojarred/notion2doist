{
 "cells": [
  {
   "cell_type": "markdown",
   "metadata": {},
   "source": [
    "# notion to todoist development notebook"
   ]
  },
  {
   "cell_type": "code",
   "execution_count": 1,
   "metadata": {},
   "outputs": [],
   "source": [
    "import os\n",
    "import sys\n",
    "import notion\n",
    "from notion.client import NotionClient\n",
    "from todoist.api import TodoistAPI\n",
    "\n",
    "sys.path.insert(1, '/Users/jarredgreen/PycharmProjects/notion-to-doist/notion2doist')\n",
    "from app import (\n",
    "    task, syncManager, labelManager, \n",
    "    projectManager, taskManager, helper, compute_hmac, check_notion_for_updates,\n",
    "    webhook_arrived\n",
    ")\n",
    "from bidict import bidict\n",
    "from datetime import datetime, timezone, timedelta"
   ]
  },
  {
   "cell_type": "code",
   "execution_count": 2,
   "metadata": {},
   "outputs": [],
   "source": [
    "%load_ext autoreload\n",
    "%autoreload 2"
   ]
  },
  {
   "cell_type": "code",
   "execution_count": 3,
   "metadata": {},
   "outputs": [],
   "source": [
    "todoist_token = \"1aa330c1397a63ce19baba1c3401c42af9bbaa08\"\n",
    "notion_token = \"a2ae36c266053a72fc564b418a1f578d736228f614ab5925be62f22383894f550dd53004bb48005e699e101a94e00008d23fd6eff24286a48f62f943d3e427ddb14092ffcf94df25e58dd939bfc8\"\n",
    "notion_settings = \"https://www.notion.so/jarredgreen/c1c3fea02d4c4a52bfece58af9c407c3?v=ad00b0ae035344caa12f664c7efe7d77\""
   ]
  },
  {
   "cell_type": "code",
   "execution_count": 27,
   "metadata": {},
   "outputs": [
    {
     "name": "stdout",
     "output_type": "stream",
     "text": [
      "Sync configuration updated.\n"
     ]
    }
   ],
   "source": [
    "Manager = syncManager(\n",
    "    todoist_token=todoist_token,\n",
    "    notion_token=notion_token,\n",
    "    notion_settings_url=notion_settings\n",
    ")"
   ]
  },
  {
   "cell_type": "code",
   "execution_count": 34,
   "metadata": {},
   "outputs": [],
   "source": [
    "man.sync_todoist_api()\n",
    "for item in man.api.items.all():\n",
    "    #print(item[\"content\"], item[\"id\"], item[\"checked\"])\n",
    "    item.delete()"
   ]
  },
  {
   "cell_type": "code",
   "execution_count": 35,
   "metadata": {},
   "outputs": [],
   "source": [
    "man.commit_todoist_api()"
   ]
  },
  {
   "cell_type": "markdown",
   "metadata": {},
   "source": [
    "## Testing sync functions"
   ]
  },
  {
   "cell_type": "code",
   "execution_count": 130,
   "metadata": {},
   "outputs": [
    {
     "name": "stdout",
     "output_type": "stream",
     "text": [
      "Sync configuration updated.\n"
     ]
    }
   ],
   "source": [
    "man.sync_config()"
   ]
  },
  {
   "cell_type": "code",
   "execution_count": 14,
   "metadata": {},
   "outputs": [
    {
     "name": "stdout",
     "output_type": "stream",
     "text": [
      "Syncing labels...\n",
      "Done syncing labels. 0 label(s) added and 0 label(s) updated\n"
     ]
    }
   ],
   "source": [
    "tools.labelManager.sync_labels_to_todoist(man)"
   ]
  },
  {
   "cell_type": "code",
   "execution_count": 52,
   "metadata": {},
   "outputs": [
    {
     "name": "stdout",
     "output_type": "stream",
     "text": [
      "Syncing projects...\n",
      "Adding notion project ID for task: Project 1\n",
      "Adding notion project ID for task: Project 2\n",
      "Adding notion project ID for task: Project 3\n",
      "Done syncing projects. 0 project(s) added and 0 projects(s) updated\n"
     ]
    }
   ],
   "source": [
    "tools.projectManager.sync_projects(man)"
   ]
  },
  {
   "cell_type": "markdown",
   "metadata": {},
   "source": [
    "Task G ID: 4251791466"
   ]
  },
  {
   "cell_type": "code",
   "execution_count": 80,
   "metadata": {},
   "outputs": [
    {
     "name": "stdout",
     "output_type": "stream",
     "text": [
      "Syncing notion tasks to todoist...\n",
      "Task: \"Task D\": no change\n",
      "Task: \"Task F\": no change\n",
      "Task: \"Task E\"\n",
      "    label_ids: t̶o̶d̶o̶i̶s̶t̶:̶ ̶[̶2̶1̶5̶5̶3̶3̶5̶5̶5̶0̶,̶ ̶2̶1̶5̶5̶3̶0̶5̶7̶3̶1̶]̶ ⮕ notion: [2155335550, 2155305731, 2155305730]\n",
      "    label_names: t̶o̶d̶o̶i̶s̶t̶:̶ ̶[̶'̶W̶a̶i̶t̶i̶n̶g̶'̶,̶ ̶'̶q̶u̶i̶c̶k̶'̶]̶ ⮕ notion: ['Waiting', 'quick', 'email']\n",
      "Task: \"Task B\": no change\n",
      "Task: \"Task C\": no change\n",
      "Task: \"Task A\": no change\n",
      "Added 0 and updated 1 tasks.\n"
     ]
    }
   ],
   "source": [
    "tools.taskManager.sync_notion_to_todoist(man)"
   ]
  },
  {
   "cell_type": "code",
   "execution_count": 47,
   "metadata": {},
   "outputs": [],
   "source": [
    "taskg = man.api.items.get_by_id(4251791466)\n",
    "itemg = tools.taskManager.from_todoist(man, taskg)\n",
    "rowg = man.tasks.collection.get_rows(search=\"Task G\")[0]\n",
    "notiong = tools.taskManager.from_notion(man, rowg)"
   ]
  },
  {
   "cell_type": "code",
   "execution_count": 18,
   "metadata": {},
   "outputs": [
    {
     "name": "stdout",
     "output_type": "stream",
     "text": [
      "current item id: 4281049939\n",
      "Updating task \"Task BB\":\n",
      "    label_ids: n̶o̶t̶i̶o̶n̶:̶ ̶[̶2̶1̶5̶5̶3̶3̶5̶5̶4̶7̶]̶ ⮕ todoist: [2155335548, 2155305731]\n",
      "    label_names: n̶o̶t̶i̶o̶n̶:̶ ̶[̶'̶U̶r̶g̶e̶n̶t̶'̶]̶ ⮕ todoist: ['Doing', 'quick']\n",
      "    project_id: n̶o̶t̶i̶o̶n̶:̶ ̶2̶2̶4̶6̶8̶3̶7̶2̶8̶1̶ ⮕ todoist: 2246872891\n",
      "    project_name: n̶o̶t̶i̶o̶n̶:̶ ̶P̶r̶o̶j̶e̶c̶t̶ ̶1̶ ⮕ todoist: Project 2\n",
      "    notion_project_id: n̶o̶t̶i̶o̶n̶:̶ ̶0̶4̶3̶0̶9̶4̶d̶b̶-̶b̶c̶9̶0̶-̶4̶d̶4̶e̶-̶a̶0̶2̶a̶-̶a̶5̶a̶e̶0̶1̶a̶b̶d̶9̶3̶7̶ ⮕ todoist: 76e92edb-93e1-49ec-a445-bf40bd2ca46e\n"
     ]
    }
   ],
   "source": [
    "taskManager.webhook_arrived(man, {\"event_name\": \"item:updated\"})"
   ]
  },
  {
   "cell_type": "markdown",
   "metadata": {},
   "source": [
    "## Current tests"
   ]
  },
  {
   "cell_type": "markdown",
   "metadata": {},
   "source": [
    "### webhook arrivals"
   ]
  },
  {
   "cell_type": "code",
   "execution_count": 32,
   "metadata": {},
   "outputs": [
    {
     "name": "stdout",
     "output_type": "stream",
     "text": [
      "id='9e42a8d9-3aea-4ad3-9792-5f3f6d34e4f8', title='Task C'\n",
      "id='ec795866-99b5-4a57-9eb6-9462e59884eb', title='Task B'\n",
      "id='0a0b354b-6c4d-4d2f-a81e-536218bab4ef', title='Task A'\n"
     ]
    }
   ],
   "source": [
    "for row in man.tasks.collection.get_rows():\n",
    "    row.refresh()\n",
    "    print(row)"
   ]
  },
  {
   "cell_type": "code",
   "execution_count": 33,
   "metadata": {},
   "outputs": [
    {
     "name": "stdout",
     "output_type": "stream",
     "text": [
      "Syncing notion tasks to todoist...\n",
      "\n",
      "\n",
      "\n",
      "---------------------------------\n",
      "Adding notion ID for task: Task C\n",
      "\n",
      " Notion task: Task: Task C\n",
      " {\n",
      "    \"source\": \"notion\",\n",
      "    \"task_id\": null,\n",
      "    \"content\": \"Task C\",\n",
      "    \"done\": false,\n",
      "    \"due\": null,\n",
      "    \"label_ids\": [\n",
      "        2155335550\n",
      "    ],\n",
      "    \"label_names\": [\n",
      "        \"Waiting\"\n",
      "    ],\n",
      "    \"project_id\": 2246837281,\n",
      "    \"project_name\": \"Project 1\",\n",
      "    \"notion_task_id\": \"9e42a8d9-3aea-4ad3-9792-5f3f6d34e4f8\",\n",
      "    \"notion_project_id\": \"043094db-bc90-4d4e-a02a-a5ae01abd937\",\n",
      "    \"todoist_note_id\": null\n",
      "}\n",
      "Task: Task C is new!\n",
      "New item and note id: 4281070491, 2702806667\n",
      "Synced new Notion task Task C to Todoist.\n",
      "\n",
      "\n",
      "\n",
      "---------------------------------\n",
      "Adding notion ID for task: Task B\n",
      "\n",
      " Notion task: Task: Task B\n",
      " {\n",
      "    \"source\": \"notion\",\n",
      "    \"task_id\": null,\n",
      "    \"content\": \"Task B\",\n",
      "    \"done\": false,\n",
      "    \"due\": null,\n",
      "    \"label_ids\": [\n",
      "        2155335548\n",
      "    ],\n",
      "    \"label_names\": [\n",
      "        \"Doing\"\n",
      "    ],\n",
      "    \"project_id\": 2246837281,\n",
      "    \"project_name\": \"Project 1\",\n",
      "    \"notion_task_id\": \"ec795866-99b5-4a57-9eb6-9462e59884eb\",\n",
      "    \"notion_project_id\": \"043094db-bc90-4d4e-a02a-a5ae01abd937\",\n",
      "    \"todoist_note_id\": null\n",
      "}\n",
      "Task: Task B is new!\n",
      "New item and note id: 4281070599, 2702806681\n",
      "Synced new Notion task Task B to Todoist.\n",
      "\n",
      "\n",
      "\n",
      "---------------------------------\n",
      "Adding notion ID for task: Task A\n",
      "\n",
      " Notion task: Task: Task A\n",
      " {\n",
      "    \"source\": \"notion\",\n",
      "    \"task_id\": null,\n",
      "    \"content\": \"Task A\",\n",
      "    \"done\": false,\n",
      "    \"due\": null,\n",
      "    \"label_ids\": [\n",
      "        2155335547\n",
      "    ],\n",
      "    \"label_names\": [\n",
      "        \"Urgent\"\n",
      "    ],\n",
      "    \"project_id\": 2246837281,\n",
      "    \"project_name\": \"Project 1\",\n",
      "    \"notion_task_id\": \"0a0b354b-6c4d-4d2f-a81e-536218bab4ef\",\n",
      "    \"notion_project_id\": \"043094db-bc90-4d4e-a02a-a5ae01abd937\",\n",
      "    \"todoist_note_id\": null\n",
      "}\n",
      "Task: Task A is new!\n",
      "New item and note id: 4281070750, 2702806695\n",
      "Synced new Notion task Task A to Todoist.\n",
      "Added 3 and updated 0 tasks.\n"
     ]
    }
   ],
   "source": [
    "taskManager.sync_notion_to_todoist(man, full_sync=True)"
   ]
  },
  {
   "cell_type": "code",
   "execution_count": null,
   "metadata": {},
   "outputs": [],
   "source": []
  },
  {
   "cell_type": "markdown",
   "metadata": {},
   "source": [
    "### encrpytion"
   ]
  },
  {
   "cell_type": "code",
   "execution_count": 22,
   "metadata": {},
   "outputs": [],
   "source": [
    "import base64\n",
    "import hashlib\n",
    "import hmac"
   ]
  },
  {
   "cell_type": "code",
   "execution_count": 48,
   "metadata": {},
   "outputs": [],
   "source": [
    "def compute_hmac(body):\n",
    "\n",
    "    signature = base64.b64encode(hmac.new(\n",
    "        \"secretpassword\".encode('utf-8'),\n",
    "        body.encode('utf-8'),\n",
    "        digestmod=hashlib.sha256).digest()).decode('utf-8')\n",
    "    return signature"
   ]
  },
  {
   "cell_type": "code",
   "execution_count": 57,
   "metadata": {},
   "outputs": [
    {
     "data": {
      "text/plain": [
       "'aBDj5zLaMcPbTGSYGXwErGT3Cq9zRX4QoKRet+YrE30='"
      ]
     },
     "execution_count": 57,
     "metadata": {},
     "output_type": "execute_result"
    }
   ],
   "source": [
    "compute_hmac(\"test\")"
   ]
  }
 ],
 "metadata": {
  "kernelspec": {
   "display_name": "Python 3",
   "language": "python",
   "name": "python3"
  },
  "language_info": {
   "codemirror_mode": {
    "name": "ipython",
    "version": 3
   },
   "file_extension": ".py",
   "mimetype": "text/x-python",
   "name": "python",
   "nbconvert_exporter": "python",
   "pygments_lexer": "ipython3",
   "version": "3.6.5"
  }
 },
 "nbformat": 4,
 "nbformat_minor": 4
}
