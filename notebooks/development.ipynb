{
 "cells": [
  {
   "cell_type": "markdown",
   "metadata": {},
   "source": [
    "# notion to todoist development notebook"
   ]
  },
  {
   "cell_type": "code",
   "execution_count": 1,
   "metadata": {},
   "outputs": [],
   "source": [
    "import os\n",
    "import sys\n",
    "import notion\n",
    "from notion.client import NotionClient\n",
    "from todoist.api import TodoistAPI\n",
    "\n",
    "sys.path.insert(1, '/Users/jarredgreen/PycharmProjects/notion-to-doist/notion2doist')\n",
    "from app import (\n",
    "    task, syncManager, labelManager, \n",
    "    projectManager, taskManager, helper, compute_hmac, check_notion_for_updates,\n",
    "    webhook_arrived\n",
    ")\n",
    "from bidict import bidict\n",
    "from datetime import datetime, timezone, timedelta"
   ]
  },
  {
   "cell_type": "code",
   "execution_count": 2,
   "metadata": {},
   "outputs": [],
   "source": [
    "%load_ext autoreload\n",
    "%autoreload 2"
   ]
  },
  {
   "cell_type": "code",
   "execution_count": 3,
   "metadata": {},
   "outputs": [],
   "source": [
    "todoist_token = \"1aa330c1397a63ce19baba1c3401c42af9bbaa08\"\n",
    "notion_token = \"a2ae36c266053a72fc564b418a1f578d736228f614ab5925be62f22383894f550dd53004bb48005e699e101a94e00008d23fd6eff24286a48f62f943d3e427ddb14092ffcf94df25e58dd939bfc8\"\n",
    "notion_settings = \"https://www.notion.so/jarredgreen/c1c3fea02d4c4a52bfece58af9c407c3?v=ad00b0ae035344caa12f664c7efe7d77\""
   ]
  },
  {
   "cell_type": "code",
   "execution_count": 75,
   "metadata": {},
   "outputs": [
    {
     "name": "stdout",
     "output_type": "stream",
     "text": [
      "Sync configuration updated.\n"
     ]
    }
   ],
   "source": [
    "man = syncManager(\n",
    "    todoist_token=todoist_token,\n",
    "    notion_token=notion_token,\n",
    "    notion_settings_url=notion_settings\n",
    ")"
   ]
  },
  {
   "cell_type": "code",
   "execution_count": 80,
   "metadata": {},
   "outputs": [],
   "source": [
    "man.sync_todoist_api()\n",
    "for item in man.api.items.all():\n",
    "    #print(item[\"content\"], item[\"id\"], item[\"checked\"])\n",
    "    item.delete()"
   ]
  },
  {
   "cell_type": "code",
   "execution_count": 55,
   "metadata": {},
   "outputs": [],
   "source": [
    "for label in man.api.labels.all():\n",
    "    label.delete()"
   ]
  },
  {
   "cell_type": "code",
   "execution_count": 57,
   "metadata": {},
   "outputs": [],
   "source": [
    "for project in man.api.projects.all():\n",
    "    project.delete()"
   ]
  },
  {
   "cell_type": "code",
   "execution_count": 81,
   "metadata": {},
   "outputs": [],
   "source": [
    "man.commit_todoist_api()"
   ]
  },
  {
   "cell_type": "markdown",
   "metadata": {},
   "source": [
    "## Testing sync functions"
   ]
  },
  {
   "cell_type": "code",
   "execution_count": 130,
   "metadata": {},
   "outputs": [
    {
     "name": "stdout",
     "output_type": "stream",
     "text": [
      "Sync configuration updated.\n"
     ]
    }
   ],
   "source": [
    "man.sync_config()"
   ]
  },
  {
   "cell_type": "code",
   "execution_count": 14,
   "metadata": {},
   "outputs": [
    {
     "name": "stdout",
     "output_type": "stream",
     "text": [
      "Syncing labels...\n",
      "Done syncing labels. 0 label(s) added and 0 label(s) updated\n"
     ]
    }
   ],
   "source": [
    "tools.labelManager.sync_labels_to_todoist(man)"
   ]
  },
  {
   "cell_type": "code",
   "execution_count": 52,
   "metadata": {},
   "outputs": [
    {
     "name": "stdout",
     "output_type": "stream",
     "text": [
      "Syncing projects...\n",
      "Adding notion project ID for task: Project 1\n",
      "Adding notion project ID for task: Project 2\n",
      "Adding notion project ID for task: Project 3\n",
      "Done syncing projects. 0 project(s) added and 0 projects(s) updated\n"
     ]
    }
   ],
   "source": [
    "tools.projectManager.sync_projects(man)"
   ]
  },
  {
   "cell_type": "markdown",
   "metadata": {},
   "source": [
    "Task G ID: 4251791466"
   ]
  },
  {
   "cell_type": "code",
   "execution_count": 80,
   "metadata": {},
   "outputs": [
    {
     "name": "stdout",
     "output_type": "stream",
     "text": [
      "Syncing notion tasks to todoist...\n",
      "Task: \"Task D\": no change\n",
      "Task: \"Task F\": no change\n",
      "Task: \"Task E\"\n",
      "    label_ids: t̶o̶d̶o̶i̶s̶t̶:̶ ̶[̶2̶1̶5̶5̶3̶3̶5̶5̶5̶0̶,̶ ̶2̶1̶5̶5̶3̶0̶5̶7̶3̶1̶]̶ ⮕ notion: [2155335550, 2155305731, 2155305730]\n",
      "    label_names: t̶o̶d̶o̶i̶s̶t̶:̶ ̶[̶'̶W̶a̶i̶t̶i̶n̶g̶'̶,̶ ̶'̶q̶u̶i̶c̶k̶'̶]̶ ⮕ notion: ['Waiting', 'quick', 'email']\n",
      "Task: \"Task B\": no change\n",
      "Task: \"Task C\": no change\n",
      "Task: \"Task A\": no change\n",
      "Added 0 and updated 1 tasks.\n"
     ]
    }
   ],
   "source": [
    "tools.taskManager.sync_notion_to_todoist(man)"
   ]
  },
  {
   "cell_type": "code",
   "execution_count": 47,
   "metadata": {},
   "outputs": [],
   "source": [
    "taskg = man.api.items.get_by_id(4251791466)\n",
    "itemg = tools.taskManager.from_todoist(man, taskg)\n",
    "rowg = man.tasks.collection.get_rows(search=\"Task G\")[0]\n",
    "notiong = tools.taskManager.from_notion(man, rowg)"
   ]
  },
  {
   "cell_type": "code",
   "execution_count": 79,
   "metadata": {},
   "outputs": [
    {
     "name": "stdout",
     "output_type": "stream",
     "text": [
      "current item id: 4281201523\n",
      "Item 4281201523 was just synced from notion. Skipping...\n",
      "Updating task \"Hi is okay\":\n",
      "    content: n̶o̶t̶i̶o̶n̶:̶ ̶H̶i̶ ̶i̶s̶ ̶o̶k̶ ̶p̶3̶ ⮕ todoist: Hi is okay\n",
      "    project_id: n̶o̶t̶i̶o̶n̶:̶ ̶2̶2̶4̶6̶0̶6̶2̶9̶6̶2̶ ⮕ todoist: 2248315288\n",
      "    project_name: n̶o̶t̶i̶o̶n̶:̶ ̶I̶n̶b̶o̶x̶ ⮕ todoist: Project 1\n",
      "    notion_project_id: n̶o̶t̶i̶o̶n̶:̶ ̶8̶7̶1̶c̶9̶3̶6̶e̶-̶a̶e̶f̶7̶-̶4̶c̶e̶b̶-̶8̶c̶9̶2̶-̶7̶6̶7̶6̶3̶e̶6̶7̶d̶e̶e̶b̶ ⮕ todoist: 043094db-bc90-4d4e-a02a-a5ae01abd937\n",
      "Updating title from Hi is ok p3 to Hi is okay\n"
     ]
    }
   ],
   "source": [
    "taskManager.webhook_arrived(man, {\"event_name\": \"item:updated\"})"
   ]
  },
  {
   "cell_type": "markdown",
   "metadata": {},
   "source": [
    "## Current tests"
   ]
  },
  {
   "cell_type": "markdown",
   "metadata": {},
   "source": [
    "### why is everything broken"
   ]
  },
  {
   "cell_type": "code",
   "execution_count": 44,
   "metadata": {},
   "outputs": [],
   "source": [
    "items = []\n",
    "for row in man.tasks.collection.get_rows():\n",
    "    row.refresh()\n",
    "    items.append(taskManager.from_notion(man, row))"
   ]
  },
  {
   "cell_type": "code",
   "execution_count": 18,
   "metadata": {},
   "outputs": [
    {
     "name": "stdout",
     "output_type": "stream",
     "text": [
      "Syncing projects...\n",
      "Adding notion project ID to: Inbox\n",
      "Done syncing projects. 0 project(s) added and 0 projects(s) updated\n"
     ]
    }
   ],
   "source": [
    "projectManager.sync_projects(man)"
   ]
  },
  {
   "cell_type": "code",
   "execution_count": 6,
   "metadata": {},
   "outputs": [
    {
     "name": "stdout",
     "output_type": "stream",
     "text": [
      "Syncing labels...\n",
      "Done syncing labels. 0 label(s) added and 0 label(s) updated\n"
     ]
    }
   ],
   "source": [
    "labelManager.sync_labels_to_todoist(man)"
   ]
  },
  {
   "cell_type": "code",
   "execution_count": 54,
   "metadata": {},
   "outputs": [
    {
     "data": {
      "text/plain": [
       "datetime.datetime(2020, 1, 1, 0, 0, 0, 500000)"
      ]
     },
     "execution_count": 54,
     "metadata": {},
     "output_type": "execute_result"
    }
   ],
   "source": [
    "datetime.fromtimestamp(float(1577833200.5))"
   ]
  },
  {
   "cell_type": "code",
   "execution_count": 59,
   "metadata": {},
   "outputs": [
    {
     "data": {
      "text/plain": [
       "{'Label column name': {'status': 'select', 'tags': 'multi_select'},\n",
       " 'Link to task database': 'jarredgreen/f7038e6d4ffb4118aed5d5e722e6e862?v=d3ece62f73814958bc1e07e0abd241e6',\n",
       " 'Link to project database': 'jarredgreen/f817aed3992c4acfa8f2889cd0159611?v=35665a3e284f4da0a36451303b9b2478',\n",
       " 'Link to label database': 'jarredgreen/46fbda888f844ca9a429ccc7bfff35dc?v=8a7729ac1dce4347883e49d1cbd77eac',\n",
       " 'Sync completed tasks': False,\n",
       " 'Use groups': False,\n",
       " 'Sync password': 'ilovecats',\n",
       " 'Last notion sync time': '1577833200.0',\n",
       " 'Input label string': 'status=select, tags=multi_select'}"
      ]
     },
     "execution_count": 59,
     "metadata": {},
     "output_type": "execute_result"
    }
   ],
   "source": [
    "man.config"
   ]
  },
  {
   "cell_type": "code",
   "execution_count": 76,
   "metadata": {},
   "outputs": [
    {
     "name": "stdout",
     "output_type": "stream",
     "text": [
      "Syncing notion tasks to todoist...\n",
      "\n",
      "\n",
      "\n",
      "---------------------------------\n",
      "\n",
      " Notion task: Task: Hi is ok p3\n",
      " {\n",
      "    \"source\": \"notion\",\n",
      "    \"task_id\": 4281201523,\n",
      "    \"content\": \"Hi is ok p3\",\n",
      "    \"done\": false,\n",
      "    \"due\": \"2020-10-28\",\n",
      "    \"label_ids\": [\n",
      "        2155428351,\n",
      "        2155428356\n",
      "    ],\n",
      "    \"label_names\": [\n",
      "        \"Todo\",\n",
      "        \"quick\"\n",
      "    ],\n",
      "    \"project_id\": 2246062962,\n",
      "    \"project_name\": \"Inbox\",\n",
      "    \"notion_task_id\": \"c0f119a3-d7e9-4eeb-b373-286dd999cc50\",\n",
      "    \"notion_project_id\": \"871c936e-aef7-4ceb-8c92-76763e67deeb\",\n",
      "    \"todoist_note_id\": null\n",
      "}\n",
      "Task: \"Hi is ok p3\"\n",
      " Todoist task: Task: Hi is ok!\n",
      " {\n",
      "    \"source\": \"todoist\",\n",
      "    \"task_id\": 4281201523,\n",
      "    \"content\": \"Hi is ok!\",\n",
      "    \"done\": false,\n",
      "    \"due\": \"2020-10-28\",\n",
      "    \"label_ids\": [\n",
      "        2155428351,\n",
      "        2155428356\n",
      "    ],\n",
      "    \"label_names\": [\n",
      "        \"Todo\",\n",
      "        \"quick\"\n",
      "    ],\n",
      "    \"project_id\": 2246062962,\n",
      "    \"project_name\": \"Inbox\",\n",
      "    \"notion_task_id\": \"c0f119a3-d7e9-4eeb-b373-286dd999cc50\",\n",
      "    \"notion_project_id\": \"871c936e-aef7-4ceb-8c92-76763e67deeb\",\n",
      "    \"todoist_note_id\": 2702821842\n",
      "}\n",
      "\n",
      "    content: t̶o̶d̶o̶i̶s̶t̶:̶ ̶H̶i̶ ̶i̶s̶ ̶o̶k̶!̶ ⮕ notion: Hi is ok p3\n",
      "\n",
      " Updates: ['content']\n",
      "Updating title from Hi is ok p3 to Hi is ok p3\n",
      "\n",
      "\n",
      "\n",
      "---------------------------------\n",
      "\n",
      " Notion task: Task: Task 3\n",
      " {\n",
      "    \"source\": \"notion\",\n",
      "    \"task_id\": 4281150250,\n",
      "    \"content\": \"Task 3\",\n",
      "    \"done\": false,\n",
      "    \"due\": \"2020-10-24\",\n",
      "    \"label_ids\": [\n",
      "        2155428349,\n",
      "        2155428355,\n",
      "        2155428356\n",
      "    ],\n",
      "    \"label_names\": [\n",
      "        \"Urgent\",\n",
      "        \"email\",\n",
      "        \"quick\"\n",
      "    ],\n",
      "    \"project_id\": 2248315291,\n",
      "    \"project_name\": \"Project 3\",\n",
      "    \"notion_task_id\": \"0d9d5258-c9a5-4b04-aa29-4cb88e830440\",\n",
      "    \"notion_project_id\": \"9f92caf1-5c31-4957-a06a-96b4c8e7f67c\",\n",
      "    \"todoist_note_id\": null\n",
      "}\n",
      "Task: \"Task 3\"\n",
      " Todoist task: Task: Task 3\n",
      " {\n",
      "    \"source\": \"todoist\",\n",
      "    \"task_id\": 4281150250,\n",
      "    \"content\": \"Task 3\",\n",
      "    \"done\": false,\n",
      "    \"due\": \"2020-10-24\",\n",
      "    \"label_ids\": [\n",
      "        2155428349,\n",
      "        2155428355,\n",
      "        2155428356\n",
      "    ],\n",
      "    \"label_names\": [\n",
      "        \"Urgent\",\n",
      "        \"email\",\n",
      "        \"quick\"\n",
      "    ],\n",
      "    \"project_id\": 2248315291,\n",
      "    \"project_name\": \"Project 3\",\n",
      "    \"notion_task_id\": \"0d9d5258-c9a5-4b04-aa29-4cb88e830440\",\n",
      "    \"notion_project_id\": \"9f92caf1-5c31-4957-a06a-96b4c8e7f67c\",\n",
      "    \"todoist_note_id\": 2702815411\n",
      "}\n",
      "\n",
      " Updates: []\n",
      ": no change\n",
      "\n",
      "\n",
      "\n",
      "---------------------------------\n",
      "\n",
      " Notion task: Task: Task 1\n",
      " {\n",
      "    \"source\": \"notion\",\n",
      "    \"task_id\": 4281150580,\n",
      "    \"content\": \"Task 1\",\n",
      "    \"done\": false,\n",
      "    \"due\": \"2020-10-30\",\n",
      "    \"label_ids\": [\n",
      "        2155428350,\n",
      "        2155428355\n",
      "    ],\n",
      "    \"label_names\": [\n",
      "        \"Doing\",\n",
      "        \"email\"\n",
      "    ],\n",
      "    \"project_id\": 2248315288,\n",
      "    \"project_name\": \"Project 1\",\n",
      "    \"notion_task_id\": \"d979422d-2f26-419e-9825-fdeb5a3d94fb\",\n",
      "    \"notion_project_id\": \"043094db-bc90-4d4e-a02a-a5ae01abd937\",\n",
      "    \"todoist_note_id\": null\n",
      "}\n",
      "Task: \"Task 1\"\n",
      " Todoist task: Task: Task 1\n",
      " {\n",
      "    \"source\": \"todoist\",\n",
      "    \"task_id\": 4281150580,\n",
      "    \"content\": \"Task 1\",\n",
      "    \"done\": false,\n",
      "    \"due\": \"2020-10-30\",\n",
      "    \"label_ids\": [\n",
      "        2155428350,\n",
      "        2155428355\n",
      "    ],\n",
      "    \"label_names\": [\n",
      "        \"Doing\",\n",
      "        \"email\"\n",
      "    ],\n",
      "    \"project_id\": 2248315288,\n",
      "    \"project_name\": \"Project 1\",\n",
      "    \"notion_task_id\": \"d979422d-2f26-419e-9825-fdeb5a3d94fb\",\n",
      "    \"notion_project_id\": \"043094db-bc90-4d4e-a02a-a5ae01abd937\",\n",
      "    \"todoist_note_id\": 2702815455\n",
      "}\n",
      "\n",
      " Updates: []\n",
      ": no change\n",
      "\n",
      "\n",
      "\n",
      "---------------------------------\n",
      "\n",
      " Notion task: Task: Task 2\n",
      " {\n",
      "    \"source\": \"notion\",\n",
      "    \"task_id\": 4281150465,\n",
      "    \"content\": \"Task 2\",\n",
      "    \"done\": false,\n",
      "    \"due\": \"2020-11-03\",\n",
      "    \"label_ids\": [\n",
      "        2155428351,\n",
      "        2155428356,\n",
      "        2155428355\n",
      "    ],\n",
      "    \"label_names\": [\n",
      "        \"Todo\",\n",
      "        \"quick\",\n",
      "        \"email\"\n",
      "    ],\n",
      "    \"project_id\": 2248315290,\n",
      "    \"project_name\": \"Project 2\",\n",
      "    \"notion_task_id\": \"e7daabd7-822c-4d0b-a8f8-f702ca58aab6\",\n",
      "    \"notion_project_id\": \"76e92edb-93e1-49ec-a445-bf40bd2ca46e\",\n",
      "    \"todoist_note_id\": null\n",
      "}\n",
      "Task: \"Task 2\"\n",
      " Todoist task: Task: Task 2\n",
      " {\n",
      "    \"source\": \"todoist\",\n",
      "    \"task_id\": 4281150465,\n",
      "    \"content\": \"Task 2\",\n",
      "    \"done\": false,\n",
      "    \"due\": \"2020-11-03\",\n",
      "    \"label_ids\": [\n",
      "        2155428351,\n",
      "        2155428355,\n",
      "        2155428356\n",
      "    ],\n",
      "    \"label_names\": [\n",
      "        \"Todo\",\n",
      "        \"email\",\n",
      "        \"quick\"\n",
      "    ],\n",
      "    \"project_id\": 2248315290,\n",
      "    \"project_name\": \"Project 2\",\n",
      "    \"notion_task_id\": \"e7daabd7-822c-4d0b-a8f8-f702ca58aab6\",\n",
      "    \"notion_project_id\": \"76e92edb-93e1-49ec-a445-bf40bd2ca46e\",\n",
      "    \"todoist_note_id\": 2702815448\n",
      "}\n",
      "\n",
      "    label_ids: t̶o̶d̶o̶i̶s̶t̶:̶ ̶[̶2̶1̶5̶5̶4̶2̶8̶3̶5̶1̶,̶ ̶2̶1̶5̶5̶4̶2̶8̶3̶5̶5̶,̶ ̶2̶1̶5̶5̶4̶2̶8̶3̶5̶6̶]̶ ⮕ notion: [2155428351, 2155428356, 2155428355]\n",
      "    label_names: t̶o̶d̶o̶i̶s̶t̶:̶ ̶[̶'̶T̶o̶d̶o̶'̶,̶ ̶'̶e̶m̶a̶i̶l̶'̶,̶ ̶'̶q̶u̶i̶c̶k̶'̶]̶ ⮕ notion: ['Todo', 'quick', 'email']\n",
      "\n",
      " Updates: ['label_ids', 'label_names']\n",
      "\n",
      "checking label column status of type select\n",
      "Found a match with label id 2155428351: To Do\n",
      "\n",
      "checking label column tags of type multi_select\n",
      "Found a match with label id 2155428356: quick\n",
      "Found a match with label id 2155428355: email\n",
      "Added 0 and updated 2 tasks.\n"
     ]
    }
   ],
   "source": [
    "taskManager.sync_notion_to_todoist(man, full_sync=True)"
   ]
  },
  {
   "cell_type": "code",
   "execution_count": 78,
   "metadata": {},
   "outputs": [
    {
     "data": {
      "text/plain": [
       "['Quick', 'Todo', 'email']"
      ]
     },
     "execution_count": 78,
     "metadata": {},
     "output_type": "execute_result"
    }
   ],
   "source": [
    "sorted(['Todo', 'Quick', 'email'])"
   ]
  },
  {
   "cell_type": "code",
   "execution_count": 72,
   "metadata": {},
   "outputs": [],
   "source": [
    "man.update_notion_sync_time()"
   ]
  },
  {
   "cell_type": "code",
   "execution_count": 73,
   "metadata": {},
   "outputs": [
    {
     "data": {
      "text/plain": [
       "datetime.datetime(2020, 10, 24, 16, 26, 12, 839307)"
      ]
     },
     "execution_count": 73,
     "metadata": {},
     "output_type": "execute_result"
    }
   ],
   "source": [
    "man.last_notion_sync_time"
   ]
  },
  {
   "cell_type": "code",
   "execution_count": 61,
   "metadata": {},
   "outputs": [
    {
     "data": {
      "text/plain": [
       "[\n",
       "  <CollectionRowBlock (id='60a2dc47-35d4-47a1-b59c-30e70a54afdf', title='Last notion sync time')>,\n",
       "]"
      ]
     },
     "execution_count": 61,
     "metadata": {},
     "output_type": "execute_result"
    }
   ],
   "source": [
    "man.settings.collection.get_rows(search=\"Last notion sync time\")"
   ]
  },
  {
   "cell_type": "markdown",
   "metadata": {},
   "source": [
    "### encrpytion"
   ]
  },
  {
   "cell_type": "code",
   "execution_count": 22,
   "metadata": {},
   "outputs": [],
   "source": [
    "import base64\n",
    "import hashlib\n",
    "import hmac"
   ]
  },
  {
   "cell_type": "code",
   "execution_count": 48,
   "metadata": {},
   "outputs": [],
   "source": [
    "def compute_hmac(body):\n",
    "\n",
    "    signature = base64.b64encode(hmac.new(\n",
    "        \"secretpassword\".encode('utf-8'),\n",
    "        body.encode('utf-8'),\n",
    "        digestmod=hashlib.sha256).digest()).decode('utf-8')\n",
    "    return signature"
   ]
  },
  {
   "cell_type": "code",
   "execution_count": 57,
   "metadata": {},
   "outputs": [
    {
     "data": {
      "text/plain": [
       "'aBDj5zLaMcPbTGSYGXwErGT3Cq9zRX4QoKRet+YrE30='"
      ]
     },
     "execution_count": 57,
     "metadata": {},
     "output_type": "execute_result"
    }
   ],
   "source": [
    "compute_hmac(\"test\")"
   ]
  }
 ],
 "metadata": {
  "kernelspec": {
   "display_name": "Python 3",
   "language": "python",
   "name": "python3"
  },
  "language_info": {
   "codemirror_mode": {
    "name": "ipython",
    "version": 3
   },
   "file_extension": ".py",
   "mimetype": "text/x-python",
   "name": "python",
   "nbconvert_exporter": "python",
   "pygments_lexer": "ipython3",
   "version": "3.6.5"
  }
 },
 "nbformat": 4,
 "nbformat_minor": 4
}
