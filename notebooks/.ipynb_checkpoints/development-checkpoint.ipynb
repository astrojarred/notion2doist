{
 "cells": [
  {
   "cell_type": "markdown",
   "metadata": {},
   "source": [
    "# notion to todoist development notebook"
   ]
  },
  {
   "cell_type": "code",
   "execution_count": 1,
   "metadata": {},
   "outputs": [],
   "source": [
    "import os\n",
    "import notion\n",
    "from notion.client import NotionClient\n",
    "from todoist.api import TodoistAPI\n",
    "\n",
    "import tools\n",
    "from bidict import bidict\n",
    "from datetime import datetime, timezone, timedelta"
   ]
  },
  {
   "cell_type": "code",
   "execution_count": 2,
   "metadata": {},
   "outputs": [],
   "source": [
    "%load_ext autoreload\n",
    "%autoreload 2"
   ]
  },
  {
   "cell_type": "code",
   "execution_count": 3,
   "metadata": {},
   "outputs": [],
   "source": [
    "todoist_token = \"ab9df4df62681fd519648c413750c611cad02048\"\n",
    "notion_token = \"a2ae36c266053a72fc564b418a1f578d736228f614ab5925be62f22383894f550dd53004bb48005e699e101a94e00008d23fd6eff24286a48f62f943d3e427ddb14092ffcf94df25e58dd939bfc8\"\n",
    "notion_settings = \"https://www.notion.so/jarredgreen/c1c3fea02d4c4a52bfece58af9c407c3?v=ad00b0ae035344caa12f664c7efe7d77\""
   ]
  },
  {
   "cell_type": "code",
   "execution_count": 60,
   "metadata": {},
   "outputs": [],
   "source": [
    "man = tools.syncManager(\n",
    "    todoist_token=todoist_token,\n",
    "    notion_token=notion_token,\n",
    "    notion_settings_url=notion_settings\n",
    ")"
   ]
  },
  {
   "cell_type": "markdown",
   "metadata": {},
   "source": [
    "## Testing item imports"
   ]
  },
  {
   "cell_type": "code",
   "execution_count": 399,
   "metadata": {},
   "outputs": [],
   "source": [
    "item = tools.taskManager.from_notion(man, row)\n",
    "itemt = tools.taskManager.from_todoist(man, man.api.items.get_by_id(4242733583))"
   ]
  },
  {
   "cell_type": "code",
   "execution_count": 400,
   "metadata": {},
   "outputs": [
    {
     "data": {
      "text/plain": [
       "False"
      ]
     },
     "execution_count": 400,
     "metadata": {},
     "output_type": "execute_result"
    }
   ],
   "source": [
    "item == itemt"
   ]
  },
  {
   "cell_type": "markdown",
   "metadata": {},
   "source": [
    "## Testing sync functions"
   ]
  },
  {
   "cell_type": "code",
   "execution_count": 130,
   "metadata": {},
   "outputs": [
    {
     "name": "stdout",
     "output_type": "stream",
     "text": [
      "Sync configuration updated.\n"
     ]
    }
   ],
   "source": [
    "man.sync_config()"
   ]
  },
  {
   "cell_type": "code",
   "execution_count": 385,
   "metadata": {},
   "outputs": [
    {
     "name": "stdout",
     "output_type": "stream",
     "text": [
      "Syncing labels...\n",
      "Done syncing labels. 0 label(s) added and 0 label(s) updated\n"
     ]
    }
   ],
   "source": [
    "tools.labelManager.sync_labels_to_todoist(man)"
   ]
  },
  {
   "cell_type": "code",
   "execution_count": 386,
   "metadata": {},
   "outputs": [
    {
     "name": "stdout",
     "output_type": "stream",
     "text": [
      "Syncing projects...\n",
      "Done syncing projects. 0 project(s) added and 0 projects(s) updated\n"
     ]
    }
   ],
   "source": [
    "tools.projectManager.sync_projects(man)"
   ]
  },
  {
   "cell_type": "code",
   "execution_count": 560,
   "metadata": {},
   "outputs": [
    {
     "name": "stdout",
     "output_type": "stream",
     "text": [
      "Syncing notion tasks to todoist...\n",
      "Task J False False\n",
      "Task: \"Task J\": no change\n",
      "Task D False False\n",
      "Task: \"Task D\": no change\n",
      "Task F False False\n",
      "Task: \"Task F\": no change\n",
      "Task E False False\n",
      "Task: \"Task E\": no change\n",
      "Task A False False\n",
      "Task: \"Task A\"\n",
      "    project_id: t̶o̶d̶o̶i̶s̶t̶:̶ ̶2̶2̶4̶6̶8̶3̶7̶2̶8̶1̶ ⮕ notion: 2246872891\n",
      "    project_name: t̶o̶d̶o̶i̶s̶t̶:̶ ̶P̶r̶o̶j̶e̶c̶t̶ ̶1̶ ⮕ notion: Project 2\n",
      "    notion_project_id: t̶o̶d̶o̶i̶s̶t̶:̶ ̶0̶4̶3̶0̶9̶4̶d̶b̶-̶b̶c̶9̶0̶-̶4̶d̶4̶e̶-̶a̶0̶2̶a̶-̶a̶5̶a̶e̶0̶1̶a̶b̶d̶9̶3̶7̶ ⮕ notion: 76e92edb-93e1-49ec-a445-bf40bd2ca46e\n",
      "Task B False False\n",
      "Task: \"Task B\": no change\n",
      "Added 0 and updated 1 tasks.\n"
     ]
    }
   ],
   "source": [
    "tools.taskManager.sync_notion_to_todoist(man)"
   ]
  },
  {
   "cell_type": "code",
   "execution_count": 136,
   "metadata": {},
   "outputs": [
    {
     "name": "stdout",
     "output_type": "stream",
     "text": [
      "Item 4239921097 was just synced from notion. Skipping...\n",
      "Item 4239921097 was just synced from notion. Skipping...\n",
      "Item 4239921097 was just synced from notion. Skipping...\n",
      "Updating task \"Task F\":\n",
      "    label_ids: n̶o̶t̶i̶o̶n̶:̶ ̶[̶2̶1̶5̶5̶3̶3̶5̶5̶5̶0̶,̶ ̶2̶1̶5̶5̶3̶0̶5̶7̶3̶1̶,̶ ̶2̶1̶5̶5̶3̶0̶5̶7̶3̶0̶]̶ ⮕ todoist: [2155335550, 2155305730]\n",
      "    label_names: n̶o̶t̶i̶o̶n̶:̶ ̶[̶'̶W̶a̶i̶t̶i̶n̶g̶'̶,̶ ̶'̶q̶u̶i̶c̶k̶'̶,̶ ̶'̶e̶m̶a̶i̶l̶'̶]̶ ⮕ todoist: ['Waiting', 'email']\n"
     ]
    }
   ],
   "source": [
    "tools.taskManager.webhook_arrived(man, {\"event_name\": \"item:updated\"})"
   ]
  },
  {
   "cell_type": "markdown",
   "metadata": {},
   "source": [
    "## Current tests"
   ]
  },
  {
   "cell_type": "code",
   "execution_count": 119,
   "metadata": {},
   "outputs": [],
   "source": [
    "row = man.tasks.collection.get_rows(search=\"Task F\")[0]"
   ]
  },
  {
   "cell_type": "code",
   "execution_count": 132,
   "metadata": {},
   "outputs": [],
   "source": [
    "row.refresh()"
   ]
  },
  {
   "cell_type": "code",
   "execution_count": 133,
   "metadata": {},
   "outputs": [
    {
     "name": "stdout",
     "output_type": "stream",
     "text": [
      "Last sync with Notion: 2020-10-12 17:03:34.172806+02:00\n",
      "Last row edit in Notion: 2020-10-12 17:38:00+02:00\n"
     ]
    }
   ],
   "source": [
    "print(\"Last sync with Notion:\", man.last_notion_sync_time)\n",
    "print(\"Last row edit in Notion:\", tools.helper.utc_to_local(row.last_edited))"
   ]
  },
  {
   "cell_type": "code",
   "execution_count": 134,
   "metadata": {},
   "outputs": [
    {
     "data": {
      "text/plain": [
       "True"
      ]
     },
     "execution_count": 134,
     "metadata": {},
     "output_type": "execute_result"
    }
   ],
   "source": [
    "tools.helper.utc_to_local(row.last_edited) >= man.last_notion_sync_time - timedelta(minutes=5)"
   ]
  },
  {
   "cell_type": "code",
   "execution_count": 128,
   "metadata": {},
   "outputs": [
    {
     "data": {
      "text/plain": [
       "datetime.datetime(2020, 10, 12, 17, 3, 34, 172806, tzinfo=datetime.timezone(datetime.timedelta(seconds=7200), 'CEST'))"
      ]
     },
     "execution_count": 128,
     "metadata": {},
     "output_type": "execute_result"
    }
   ],
   "source": [
    "man.last_notion_sync_time"
   ]
  },
  {
   "cell_type": "code",
   "execution_count": 135,
   "metadata": {},
   "outputs": [
    {
     "name": "stdout",
     "output_type": "stream",
     "text": [
      "Syncing notion tasks to todoist...\n",
      "2020-10-12 16:53:23.541000+02:00\n",
      "Last sync: 2020-10-12 17:03:34.172806+02:00\n",
      "Task J: Updated: 2020-10-12 16:53:23.541000+02:00\n",
      "2020-10-12 17:38:00+02:00\n",
      "Last sync: 2020-10-12 17:03:34.172806+02:00\n",
      "Task F False False\n",
      "Task: \"Task F\"\n",
      "    label_ids: t̶o̶d̶o̶i̶s̶t̶:̶ ̶[̶2̶1̶5̶5̶3̶3̶5̶5̶5̶0̶,̶ ̶2̶1̶5̶5̶3̶0̶5̶7̶3̶1̶]̶ ⮕ notion: [2155335550, 2155305731, 2155305730]\n",
      "    label_names: t̶o̶d̶o̶i̶s̶t̶:̶ ̶[̶'̶W̶a̶i̶t̶i̶n̶g̶'̶,̶ ̶'̶q̶u̶i̶c̶k̶'̶]̶ ⮕ notion: ['Waiting', 'quick', 'email']\n",
      "2020-10-12 16:53:26.119000+02:00\n",
      "Last sync: 2020-10-12 17:03:34.172806+02:00\n",
      "Task D: Updated: 2020-10-12 16:53:26.119000+02:00\n",
      "2020-10-12 16:53:39.553000+02:00\n",
      "Last sync: 2020-10-12 17:03:34.172806+02:00\n",
      "Task E: Updated: 2020-10-12 16:53:39.553000+02:00\n",
      "2020-10-12 17:00:00+02:00\n",
      "Last sync: 2020-10-12 17:03:34.172806+02:00\n",
      "Task A False False\n",
      "Task: \"Task A\"\n",
      "    label_ids: t̶o̶d̶o̶i̶s̶t̶:̶ ̶[̶2̶1̶5̶5̶3̶3̶5̶5̶4̶8̶,̶ ̶2̶1̶5̶5̶3̶0̶5̶7̶3̶0̶]̶ ⮕ notion: [2155335547, 2155305730]\n",
      "    label_names: t̶o̶d̶o̶i̶s̶t̶:̶ ̶[̶'̶D̶o̶i̶n̶g̶'̶,̶ ̶'̶e̶m̶a̶i̶l̶'̶]̶ ⮕ notion: ['Urgent', 'email']\n",
      "    project_id: t̶o̶d̶o̶i̶s̶t̶:̶ ̶2̶2̶4̶6̶8̶3̶7̶2̶8̶1̶ ⮕ notion: 2246872891\n",
      "    project_name: t̶o̶d̶o̶i̶s̶t̶:̶ ̶P̶r̶o̶j̶e̶c̶t̶ ̶1̶ ⮕ notion: Project 2\n",
      "    notion_project_id: t̶o̶d̶o̶i̶s̶t̶:̶ ̶0̶4̶3̶0̶9̶4̶d̶b̶-̶b̶c̶9̶0̶-̶4̶d̶4̶e̶-̶a̶0̶2̶a̶-̶a̶5̶a̶e̶0̶1̶a̶b̶d̶9̶3̶7̶ ⮕ notion: 76e92edb-93e1-49ec-a445-bf40bd2ca46e\n",
      "2020-10-12 16:53:45.955000+02:00\n",
      "Last sync: 2020-10-12 17:03:34.172806+02:00\n",
      "Task C: Updated: 2020-10-12 16:53:45.955000+02:00\n",
      "2020-10-12 17:38:00+02:00\n",
      "Last sync: 2020-10-12 17:03:34.172806+02:00\n",
      "Task B False False\n",
      "Task: \"Task B\"\n",
      "    label_ids: t̶o̶d̶o̶i̶s̶t̶:̶ ̶[̶2̶1̶5̶5̶3̶3̶5̶5̶5̶0̶,̶ ̶2̶1̶5̶5̶3̶0̶5̶7̶3̶0̶]̶ ⮕ notion: [2155335548, 2155305730]\n",
      "    label_names: t̶o̶d̶o̶i̶s̶t̶:̶ ̶[̶'̶W̶a̶i̶t̶i̶n̶g̶'̶,̶ ̶'̶e̶m̶a̶i̶l̶'̶]̶ ⮕ notion: ['Doing', 'email']\n",
      "Added 0 and updated 3 tasks.\n"
     ]
    }
   ],
   "source": [
    "tools.taskManager.sync_notion_to_todoist(man)"
   ]
  },
  {
   "cell_type": "code",
   "execution_count": 129,
   "metadata": {},
   "outputs": [
    {
     "data": {
      "text/plain": [
       "datetime.datetime(2020, 10, 12, 17, 3, 34, 172806, tzinfo=datetime.timezone(datetime.timedelta(seconds=7200), 'CEST'))"
      ]
     },
     "execution_count": 129,
     "metadata": {},
     "output_type": "execute_result"
    }
   ],
   "source": [
    "man.last_notion_sync_time"
   ]
  },
  {
   "cell_type": "markdown",
   "metadata": {},
   "source": [
    "## OAuth tests\n",
    "note: even after OAuth, changes are implimented by the 'USER' and not by the 'APP'."
   ]
  },
  {
   "cell_type": "code",
   "execution_count": 473,
   "metadata": {},
   "outputs": [],
   "source": [
    "from requests_oauthlib import OAuth2Session"
   ]
  },
  {
   "cell_type": "code",
   "execution_count": 474,
   "metadata": {},
   "outputs": [
    {
     "ename": "KeyError",
     "evalue": "'Client ID'",
     "output_type": "error",
     "traceback": [
      "\u001b[0;31m---------------------------------------------------------------------------\u001b[0m",
      "\u001b[0;31mKeyError\u001b[0m                                  Traceback (most recent call last)",
      "\u001b[0;32m<ipython-input-474-a7c69360c99b>\u001b[0m in \u001b[0;36m<module>\u001b[0;34m\u001b[0m\n\u001b[0;32m----> 1\u001b[0;31m \u001b[0mtodoist\u001b[0m \u001b[0;34m=\u001b[0m \u001b[0mOAuth2Session\u001b[0m\u001b[0;34m(\u001b[0m\u001b[0mman\u001b[0m\u001b[0;34m.\u001b[0m\u001b[0mconfig\u001b[0m\u001b[0;34m[\u001b[0m\u001b[0;34m\"Client ID\"\u001b[0m\u001b[0;34m]\u001b[0m\u001b[0;34m,\u001b[0m \u001b[0mscope\u001b[0m\u001b[0;34m=\u001b[0m\u001b[0;34m\"data:read_write\"\u001b[0m\u001b[0;34m)\u001b[0m\u001b[0;34m\u001b[0m\u001b[0;34m\u001b[0m\u001b[0m\n\u001b[0m",
      "\u001b[0;31mKeyError\u001b[0m: 'Client ID'"
     ]
    }
   ],
   "source": [
    "todoist = OAuth2Session(man.config[\"Client ID\"], scope=\"data:read_write\")"
   ]
  },
  {
   "cell_type": "code",
   "execution_count": 22,
   "metadata": {},
   "outputs": [
    {
     "name": "stdout",
     "output_type": "stream",
     "text": [
      "Please go here and authorize, https://todoist.com/oauth/authorize?response_type=code&client_id=0b7b85201e354541b4bddd4fb83ebf9d&scope=data%3Aread_write&state=txqxxd4jtnvSG0Zns44nvGFyJPYekm\n"
     ]
    }
   ],
   "source": [
    "authorization_url, state = todoist.authorization_url(\"https://todoist.com/oauth/authorize\", )\n",
    "print('Please go here and authorize,', authorization_url)"
   ]
  },
  {
   "cell_type": "code",
   "execution_count": 23,
   "metadata": {},
   "outputs": [
    {
     "data": {
      "text/plain": [
       "{'access_token': '40b7a462aaa63b0f869055f2ef5b8221ea9df486',\n",
       " 'token_type': 'Bearer'}"
      ]
     },
     "execution_count": 23,
     "metadata": {},
     "output_type": "execute_result"
    }
   ],
   "source": [
    "#todoist.fetch_token(token_url=\"https://todoist.com/oauth/access_token/\",\n",
    "                    code=\"1c1a778a7b8127c9642a59fd777903e518981095\",\n",
    "                    include_client_id=True,\n",
    "                    client_secret=man.config[\"Client secret\"])"
   ]
  },
  {
   "cell_type": "code",
   "execution_count": 28,
   "metadata": {},
   "outputs": [],
   "source": [
    "x = todoist.post(url=\"https://todoist.com/oauth/access_token/\",\n",
    "             data={\n",
    "                 \"client_id\": man.config[\"Client ID\"],\n",
    "                 \"client_secret\": man.config[\"Client secret\"],\n",
    "                 \"code\": \"1c1a778a7b8127c9642a59fd777903e518981095\"\n",
    "             })"
   ]
  },
  {
   "cell_type": "code",
   "execution_count": 29,
   "metadata": {},
   "outputs": [
    {
     "data": {
      "text/plain": [
       "b'{\"access_token\":\"f112d85a22ed1b7cb7f9be5d3cc1dc16b2a601c7\",\"token_type\":\"Bearer\"}'"
      ]
     },
     "execution_count": 29,
     "metadata": {},
     "output_type": "execute_result"
    }
   ],
   "source": [
    "x.content"
   ]
  },
  {
   "cell_type": "code",
   "execution_count": null,
   "metadata": {},
   "outputs": [],
   "source": []
  }
 ],
 "metadata": {
  "kernelspec": {
   "display_name": "notion",
   "language": "python",
   "name": "notion"
  },
  "language_info": {
   "codemirror_mode": {
    "name": "ipython",
    "version": 3
   },
   "file_extension": ".py",
   "mimetype": "text/x-python",
   "name": "python",
   "nbconvert_exporter": "python",
   "pygments_lexer": "ipython3",
   "version": "3.7.8"
  }
 },
 "nbformat": 4,
 "nbformat_minor": 2
}
