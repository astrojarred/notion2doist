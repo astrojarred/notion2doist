{
 "cells": [
  {
   "cell_type": "markdown",
   "metadata": {},
   "source": [
    "# notion to todoist development notebook"
   ]
  },
  {
   "cell_type": "code",
   "execution_count": 1,
   "metadata": {},
   "outputs": [],
   "source": [
    "import os\n",
    "import sys\n",
    "import notion\n",
    "from notion.client import NotionClient\n",
    "from todoist.api import TodoistAPI\n",
    "\n",
    "sys.path.insert(1, '/Users/jarredgreen/PycharmProjects/notion-to-doist/notion2doist')\n",
    "from app import (\n",
    "    task, syncManager, labelManager, \n",
    "    projectManager, taskManager, helper, compute_hmac, check_notion_for_updates,\n",
    "    webhook_arrived\n",
    ")\n",
    "from bidict import bidict\n",
    "from datetime import datetime, timezone, timedelta"
   ]
  },
  {
   "cell_type": "code",
   "execution_count": 2,
   "metadata": {},
   "outputs": [],
   "source": [
    "%load_ext autoreload\n",
    "%autoreload 2"
   ]
  },
  {
   "cell_type": "code",
   "execution_count": 5,
   "metadata": {},
   "outputs": [],
   "source": [
    "todoist_token = \"1aa330c1397a63ce19baba1c3401c42af9bbaa08\"\n",
    "notion_token = \"30a7f1a35806dded3c0f59544fa51fe1e852659e5819787a5a2885789b958dc89a0979d6a1904145dfb68b0fed53408579cc4eb22b781666b65d1e4d8179963b2720bc235ac44f12e08abb17b87b\"\n",
    "notion_settings = \"https://www.notion.so/jarredgreen/5b932eda69594bd6a24574e483888940?v=32595adc9106426a82f253b81c9997a2\""
   ]
  },
  {
   "cell_type": "markdown",
   "metadata": {},
   "source": [
    "## New stuff"
   ]
  },
  {
   "cell_type": "markdown",
   "metadata": {},
   "source": [
    "convert todoist tasks to "
   ]
  },
  {
   "cell_type": "code",
   "execution_count": 12,
   "metadata": {},
   "outputs": [
    {
     "name": "stdout",
     "output_type": "stream",
     "text": [
      "No label database.\n",
      "No use groups option.\n",
      "Sync configuration updated.\n",
      "No label database provided.\n",
      "Not tracking sync times.\n"
     ]
    }
   ],
   "source": [
    "man = syncManager(\n",
    "    todoist_token=todoist_token,\n",
    "    notion_token=notion_token,\n",
    "    notion_settings_url=notion_settings\n",
    ")"
   ]
  },
  {
   "cell_type": "code",
   "execution_count": 14,
   "metadata": {},
   "outputs": [],
   "source": [
    "man.sync_todoist_api()"
   ]
  },
  {
   "cell_type": "code",
   "execution_count": 42,
   "metadata": {},
   "outputs": [
    {
     "data": {
      "text/plain": [
       "Item({'added_by_uid': 30222014,\n",
       " 'assigned_by_uid': None,\n",
       " 'checked': 0,\n",
       " 'child_order': 1,\n",
       " 'collapsed': 0,\n",
       " 'content': 'Work on GW toy for Antonio + Barbara',\n",
       " 'date_added': '2021-01-18T11:05:29Z',\n",
       " 'date_completed': None,\n",
       " 'day_order': -1,\n",
       " 'due': {'date': '2021-01-29T17:00:00',\n",
       "         'is_recurring': False,\n",
       "         'lang': 'en',\n",
       "         'string': 'Jan 29 17:00',\n",
       "         'timezone': None},\n",
       " 'has_more_notes': False,\n",
       " 'id': 4500536302,\n",
       " 'in_history': 0,\n",
       " 'is_deleted': 0,\n",
       " 'labels': [],\n",
       " 'parent_id': None,\n",
       " 'priority': 4,\n",
       " 'project_id': 2255671997,\n",
       " 'responsible_uid': None,\n",
       " 'section_id': None,\n",
       " 'sync_id': None,\n",
       " 'user_id': 30222014})"
      ]
     },
     "execution_count": 42,
     "metadata": {},
     "output_type": "execute_result"
    }
   ],
   "source": [
    "testitem = man.api.items.all()[0]\n",
    "testitem"
   ]
  },
  {
   "cell_type": "code",
   "execution_count": 46,
   "metadata": {},
   "outputs": [
    {
     "data": {
      "text/plain": [
       "Task: Work on GW toy for Antonio + Barbara\n",
       " Task({\n",
       "    \"source\": \"todoist\",\n",
       "    \"task_id\": 4500536302,\n",
       "    \"content\": \"Work on GW toy for Antonio + Barbara\",\n",
       "    \"done\": false,\n",
       "    \"due\": \"2021-01-29T17:00:00\",\n",
       "    \"priority\": 4,\n",
       "    \"label_ids\": [],\n",
       "    \"label_names\": [],\n",
       "    \"project_id\": 2255671997,\n",
       "    \"project_name\": \"grbsens\",\n",
       "    \"notion_task_id\": null,\n",
       "    \"notion_project_id\": null,\n",
       "    \"todoist_note_id\": null\n",
       "})"
      ]
     },
     "execution_count": 46,
     "metadata": {},
     "output_type": "execute_result"
    }
   ],
   "source": [
    "testtask = taskManager.from_todoist(man, testitem)\n",
    "testtask"
   ]
  },
  {
   "cell_type": "markdown",
   "metadata": {},
   "source": [
    "## Old stuff"
   ]
  },
  {
   "cell_type": "code",
   "execution_count": 22,
   "metadata": {},
   "outputs": [
    {
     "name": "stdout",
     "output_type": "stream",
     "text": [
      "Sync configuration updated.\n"
     ]
    }
   ],
   "source": [
    "man = syncManager(\n",
    "    todoist_token=todoist_token,\n",
    "    notion_token=notion_token,\n",
    "    notion_settings_url=notion_settings\n",
    ")"
   ]
  },
  {
   "cell_type": "code",
   "execution_count": 52,
   "metadata": {},
   "outputs": [],
   "source": [
    "man.sync_todoist_api()\n",
    "for item in man.api.items.all():\n",
    "    #print(item[\"content\"], item[\"id\"], item[\"checked\"])\n",
    "    item.delete()"
   ]
  },
  {
   "cell_type": "code",
   "execution_count": 53,
   "metadata": {},
   "outputs": [],
   "source": [
    "for label in man.api.labels.all():\n",
    "    label.delete()\n",
    "    #print(label)"
   ]
  },
  {
   "cell_type": "code",
   "execution_count": 54,
   "metadata": {},
   "outputs": [],
   "source": [
    "for project in man.api.projects.all():\n",
    "    project.delete()"
   ]
  },
  {
   "cell_type": "code",
   "execution_count": 56,
   "metadata": {},
   "outputs": [],
   "source": [
    "man.commit_todoist_api()"
   ]
  },
  {
   "cell_type": "code",
   "execution_count": 30,
   "metadata": {},
   "outputs": [
    {
     "data": {
      "text/plain": [
       "datetime.datetime(2020, 10, 26, 19, 40, 39, 307285)"
      ]
     },
     "execution_count": 30,
     "metadata": {},
     "output_type": "execute_result"
    }
   ],
   "source": [
    "datetime.fromtimestamp(1603737639.307285)"
   ]
  },
  {
   "cell_type": "markdown",
   "metadata": {},
   "source": [
    "## Testing sync functions"
   ]
  },
  {
   "cell_type": "code",
   "execution_count": 33,
   "metadata": {},
   "outputs": [
    {
     "name": "stdout",
     "output_type": "stream",
     "text": [
      "Sync configuration updated.\n"
     ]
    }
   ],
   "source": [
    "man.sync_config()"
   ]
  },
  {
   "cell_type": "code",
   "execution_count": 34,
   "metadata": {},
   "outputs": [
    {
     "name": "stdout",
     "output_type": "stream",
     "text": [
      "Syncing labels...\n",
      "Adding new label Urgent🔥\n",
      "Adding new label Doing🔭\n",
      "Adding new label Todo⚙️\n",
      "Adding new label Waiting⏳\n",
      "Adding new label Someday💤\n",
      "Adding new label Done🙌\n",
      "Adding new label email\n",
      "Adding new label quick\n",
      "Done syncing labels. 8 label(s) added and 0 label(s) updated\n"
     ]
    }
   ],
   "source": [
    "labelManager.sync_labels_to_todoist(man)"
   ]
  },
  {
   "cell_type": "code",
   "execution_count": 50,
   "metadata": {},
   "outputs": [
    {
     "name": "stdout",
     "output_type": "stream",
     "text": [
      "Syncing projects...\n",
      "Done syncing projects. 0 project(s) added and 0 projects(s) updated\n"
     ]
    }
   ],
   "source": [
    "projectManager.sync_projects(man)"
   ]
  },
  {
   "cell_type": "code",
   "execution_count": 51,
   "metadata": {},
   "outputs": [
    {
     "data": {
      "text/plain": [
       "bidict({2248511877: 'astrispec', 2248511879: 'MAGIC auto-analysis', 2248511887: 'Astri-vis', 2248511895: 'Admin', 2248511897: 'Applications', 2248511901: 'Houdini', 2248511903: 'Notion + Todoist', 2248511906: 'Personal Development', 2248511909: 'Triangulum-II Paper', 2248511911: 'Evndisp', 2248511913: 'Deep Learning with ASTRI', 2248511914: 'MAGIC GRBs', 2248511916: 'MAGIC DL3', 2248511919: 'grbsens', 2248511924: 'Introduction to GRBs', 2248511925: 'Proofreading', 2248511926: 'Dark Matter', 2248511928: 'Hands on with Machine Learning', 2248511932: 'Inbox'})"
      ]
     },
     "execution_count": 51,
     "metadata": {},
     "output_type": "execute_result"
    }
   ],
   "source": [
    "projectManager.get_todoist_bidict(man)"
   ]
  },
  {
   "cell_type": "markdown",
   "metadata": {},
   "source": [
    "Task G ID: 4251791466"
   ]
  },
  {
   "cell_type": "code",
   "execution_count": 44,
   "metadata": {},
   "outputs": [
    {
     "name": "stdout",
     "output_type": "stream",
     "text": [
      "Syncing notion tasks to todoist...\n",
      "Task: \"Pick up ASI shirt\"\n",
      " Updates: []\n",
      ": no change\n",
      "Task: \"Proofread the ASTRI Extragalactic science paper\"\n",
      " Updates: []\n",
      ": no change\n",
      "Task: \"Post GRB results on wikipage\"\n",
      " Updates: []\n",
      ": no change\n",
      "Task: \"Get Michele the ASCII stuff he wanted\"\n",
      " Updates: []\n",
      ": no change\n",
      "Task: \"Triangulum II Closing Activities\"\n",
      " Updates: []\n",
      ": no change\n",
      "Task: \"Get auto-magic onto github and clean up code\"\n",
      " Updates: []\n",
      ": no change\n",
      "Task: \"Prepare first grbsens release\"\n",
      " Updates: []\n",
      ": no change\n",
      "Task: \"Run dark / weak_moon analysis of Crab\"\n",
      " Updates: []\n",
      ": no change\n",
      "Task: \"Re-run GRB analyses with Davide's spectrum\"\n",
      " Updates: []\n",
      ": no change\n",
      "Task: \"Update Astri-Vis and make into a package\"\n",
      " Updates: []\n",
      ": no change\n",
      "Task: \"Get Daniel Tri-II Data\"\n",
      " Updates: []\n",
      ": no change\n",
      "Task: \"Add task sync from notion to todoist\"\n",
      " Updates: []\n",
      ": no change\n",
      "Task: \"Update astri-vis feature requests and add to github\"\n",
      " Updates: []\n",
      ": no change\n",
      "Task: \"Run new Evndisp cross-check for Saverio\"\n",
      "    due: t̶o̶d̶o̶i̶s̶t̶:̶ ̶2̶0̶2̶0̶-̶1̶0̶-̶2̶0̶ ⮕ notion: 2020-10-27\n",
      "\n",
      " Updates: ['due']\n",
      "Task: \"Call IRS\"\n",
      " Updates: []\n",
      ": no change\n",
      "Task: \"Submit proposal for Canarias plane tickets\"\n",
      "    content: t̶o̶d̶o̶i̶s̶t̶:̶ ̶S̶u̶b̶m̶i̶t̶ ̶p̶r̶o̶p̶o̶s̶a̶l̶ ̶f̶o̶r̶ ̶C̶a̶n̶a̶r̶i̶a̶s̶ ̶p̶l̶a̶n̶e̶ ̶t̶i̶c̶k̶e̶t̶z̶ ⮕ notion: Submit proposal for Canarias plane tickets\n",
      "\n",
      " Updates: ['content']\n",
      "Updating title from Submit proposal for Canarias plane tickets to Submit proposal for Canarias plane tickets\n",
      "Task: \"Debug grbsens fluctuations\"\n",
      "    due: t̶o̶d̶o̶i̶s̶t̶:̶ ̶2̶0̶2̶0̶-̶0̶8̶-̶1̶9̶ ⮕ notion: 2020-10-28\n",
      "\n",
      " Updates: ['due']\n",
      "Task: \"Add Masters thesis to MAGIC site\"\n",
      " Updates: []\n",
      ": no change\n",
      "Task: \"Change compromised passwords in 1password\"\n",
      " Updates: []\n",
      ": no change\n",
      "Task: \"Make notion template for Ian\"\n",
      " Updates: []\n",
      ": no change\n",
      "Task: \"Deep learning\"\n",
      " Updates: []\n",
      ": no change\n",
      "Task: \"Write code for deriving J-factor and DM profile from scaling relations\"\n",
      " Updates: []\n",
      ": no change\n",
      "Task: \"Reread L. Navi paper\"\n",
      " Updates: []\n",
      ": no change\n",
      "Task: \"Submit Privacy document to OAR\"\n",
      " Updates: []\n",
      ": no change\n",
      "Task: \"Prepare notes from MAGIC/MARS mini-school\"\n",
      " Updates: []\n",
      ": no change\n",
      "Added 0 and updated 3 tasks.\n"
     ]
    }
   ],
   "source": [
    "taskManager.sync_notion_to_todoist(man, full_sync=False)"
   ]
  },
  {
   "cell_type": "code",
   "execution_count": 47,
   "metadata": {},
   "outputs": [],
   "source": [
    "taskg = man.api.items.get_by_id(4251791466)\n",
    "itemg = tools.taskManager.from_todoist(man, taskg)\n",
    "rowg = man.tasks.collection.get_rows(search=\"Task G\")[0]\n",
    "notiong = tools.taskManager.from_notion(man, rowg)"
   ]
  },
  {
   "cell_type": "code",
   "execution_count": 79,
   "metadata": {},
   "outputs": [
    {
     "name": "stdout",
     "output_type": "stream",
     "text": [
      "current item id: 4281201523\n",
      "Item 4281201523 was just synced from notion. Skipping...\n",
      "Updating task \"Hi is okay\":\n",
      "    content: n̶o̶t̶i̶o̶n̶:̶ ̶H̶i̶ ̶i̶s̶ ̶o̶k̶ ̶p̶3̶ ⮕ todoist: Hi is okay\n",
      "    project_id: n̶o̶t̶i̶o̶n̶:̶ ̶2̶2̶4̶6̶0̶6̶2̶9̶6̶2̶ ⮕ todoist: 2248315288\n",
      "    project_name: n̶o̶t̶i̶o̶n̶:̶ ̶I̶n̶b̶o̶x̶ ⮕ todoist: Project 1\n",
      "    notion_project_id: n̶o̶t̶i̶o̶n̶:̶ ̶8̶7̶1̶c̶9̶3̶6̶e̶-̶a̶e̶f̶7̶-̶4̶c̶e̶b̶-̶8̶c̶9̶2̶-̶7̶6̶7̶6̶3̶e̶6̶7̶d̶e̶e̶b̶ ⮕ todoist: 043094db-bc90-4d4e-a02a-a5ae01abd937\n",
      "Updating title from Hi is ok p3 to Hi is okay\n"
     ]
    }
   ],
   "source": [
    "taskManager.webhook_arrived(man, {\"event_name\": \"item:updated\"})"
   ]
  },
  {
   "cell_type": "markdown",
   "metadata": {},
   "source": [
    "## Current tests"
   ]
  },
  {
   "cell_type": "markdown",
   "metadata": {},
   "source": [
    "### why is everything broken"
   ]
  },
  {
   "cell_type": "code",
   "execution_count": 44,
   "metadata": {},
   "outputs": [],
   "source": [
    "items = []\n",
    "for row in man.tasks.collection.get_rows():\n",
    "    row.refresh()\n",
    "    items.append(taskManager.from_notion(man, row))"
   ]
  },
  {
   "cell_type": "code",
   "execution_count": 18,
   "metadata": {},
   "outputs": [
    {
     "name": "stdout",
     "output_type": "stream",
     "text": [
      "Syncing projects...\n",
      "Adding notion project ID to: Inbox\n",
      "Done syncing projects. 0 project(s) added and 0 projects(s) updated\n"
     ]
    }
   ],
   "source": [
    "projectManager.sync_projects(man)"
   ]
  },
  {
   "cell_type": "code",
   "execution_count": 6,
   "metadata": {},
   "outputs": [
    {
     "name": "stdout",
     "output_type": "stream",
     "text": [
      "Syncing labels...\n",
      "Done syncing labels. 0 label(s) added and 0 label(s) updated\n"
     ]
    }
   ],
   "source": [
    "labelManager.sync_labels_to_todoist(man)"
   ]
  },
  {
   "cell_type": "code",
   "execution_count": 54,
   "metadata": {},
   "outputs": [
    {
     "data": {
      "text/plain": [
       "datetime.datetime(2020, 1, 1, 0, 0, 0, 500000)"
      ]
     },
     "execution_count": 54,
     "metadata": {},
     "output_type": "execute_result"
    }
   ],
   "source": [
    "datetime.fromtimestamp(float(1577833200.5))"
   ]
  },
  {
   "cell_type": "code",
   "execution_count": 59,
   "metadata": {},
   "outputs": [
    {
     "data": {
      "text/plain": [
       "{'Label column name': {'status': 'select', 'tags': 'multi_select'},\n",
       " 'Link to task database': 'jarredgreen/f7038e6d4ffb4118aed5d5e722e6e862?v=d3ece62f73814958bc1e07e0abd241e6',\n",
       " 'Link to project database': 'jarredgreen/f817aed3992c4acfa8f2889cd0159611?v=35665a3e284f4da0a36451303b9b2478',\n",
       " 'Link to label database': 'jarredgreen/46fbda888f844ca9a429ccc7bfff35dc?v=8a7729ac1dce4347883e49d1cbd77eac',\n",
       " 'Sync completed tasks': False,\n",
       " 'Use groups': False,\n",
       " 'Sync password': 'ilovecats',\n",
       " 'Last notion sync time': '1577833200.0',\n",
       " 'Input label string': 'status=select, tags=multi_select'}"
      ]
     },
     "execution_count": 59,
     "metadata": {},
     "output_type": "execute_result"
    }
   ],
   "source": [
    "man.config"
   ]
  },
  {
   "cell_type": "code",
   "execution_count": 76,
   "metadata": {},
   "outputs": [
    {
     "name": "stdout",
     "output_type": "stream",
     "text": [
      "Syncing notion tasks to todoist...\n",
      "\n",
      "\n",
      "\n",
      "---------------------------------\n",
      "\n",
      " Notion task: Task: Hi is ok p3\n",
      " {\n",
      "    \"source\": \"notion\",\n",
      "    \"task_id\": 4281201523,\n",
      "    \"content\": \"Hi is ok p3\",\n",
      "    \"done\": false,\n",
      "    \"due\": \"2020-10-28\",\n",
      "    \"label_ids\": [\n",
      "        2155428351,\n",
      "        2155428356\n",
      "    ],\n",
      "    \"label_names\": [\n",
      "        \"Todo\",\n",
      "        \"quick\"\n",
      "    ],\n",
      "    \"project_id\": 2246062962,\n",
      "    \"project_name\": \"Inbox\",\n",
      "    \"notion_task_id\": \"c0f119a3-d7e9-4eeb-b373-286dd999cc50\",\n",
      "    \"notion_project_id\": \"871c936e-aef7-4ceb-8c92-76763e67deeb\",\n",
      "    \"todoist_note_id\": null\n",
      "}\n",
      "Task: \"Hi is ok p3\"\n",
      " Todoist task: Task: Hi is ok!\n",
      " {\n",
      "    \"source\": \"todoist\",\n",
      "    \"task_id\": 4281201523,\n",
      "    \"content\": \"Hi is ok!\",\n",
      "    \"done\": false,\n",
      "    \"due\": \"2020-10-28\",\n",
      "    \"label_ids\": [\n",
      "        2155428351,\n",
      "        2155428356\n",
      "    ],\n",
      "    \"label_names\": [\n",
      "        \"Todo\",\n",
      "        \"quick\"\n",
      "    ],\n",
      "    \"project_id\": 2246062962,\n",
      "    \"project_name\": \"Inbox\",\n",
      "    \"notion_task_id\": \"c0f119a3-d7e9-4eeb-b373-286dd999cc50\",\n",
      "    \"notion_project_id\": \"871c936e-aef7-4ceb-8c92-76763e67deeb\",\n",
      "    \"todoist_note_id\": 2702821842\n",
      "}\n",
      "\n",
      "    content: t̶o̶d̶o̶i̶s̶t̶:̶ ̶H̶i̶ ̶i̶s̶ ̶o̶k̶!̶ ⮕ notion: Hi is ok p3\n",
      "\n",
      " Updates: ['content']\n",
      "Updating title from Hi is ok p3 to Hi is ok p3\n",
      "\n",
      "\n",
      "\n",
      "---------------------------------\n",
      "\n",
      " Notion task: Task: Task 3\n",
      " {\n",
      "    \"source\": \"notion\",\n",
      "    \"task_id\": 4281150250,\n",
      "    \"content\": \"Task 3\",\n",
      "    \"done\": false,\n",
      "    \"due\": \"2020-10-24\",\n",
      "    \"label_ids\": [\n",
      "        2155428349,\n",
      "        2155428355,\n",
      "        2155428356\n",
      "    ],\n",
      "    \"label_names\": [\n",
      "        \"Urgent\",\n",
      "        \"email\",\n",
      "        \"quick\"\n",
      "    ],\n",
      "    \"project_id\": 2248315291,\n",
      "    \"project_name\": \"Project 3\",\n",
      "    \"notion_task_id\": \"0d9d5258-c9a5-4b04-aa29-4cb88e830440\",\n",
      "    \"notion_project_id\": \"9f92caf1-5c31-4957-a06a-96b4c8e7f67c\",\n",
      "    \"todoist_note_id\": null\n",
      "}\n",
      "Task: \"Task 3\"\n",
      " Todoist task: Task: Task 3\n",
      " {\n",
      "    \"source\": \"todoist\",\n",
      "    \"task_id\": 4281150250,\n",
      "    \"content\": \"Task 3\",\n",
      "    \"done\": false,\n",
      "    \"due\": \"2020-10-24\",\n",
      "    \"label_ids\": [\n",
      "        2155428349,\n",
      "        2155428355,\n",
      "        2155428356\n",
      "    ],\n",
      "    \"label_names\": [\n",
      "        \"Urgent\",\n",
      "        \"email\",\n",
      "        \"quick\"\n",
      "    ],\n",
      "    \"project_id\": 2248315291,\n",
      "    \"project_name\": \"Project 3\",\n",
      "    \"notion_task_id\": \"0d9d5258-c9a5-4b04-aa29-4cb88e830440\",\n",
      "    \"notion_project_id\": \"9f92caf1-5c31-4957-a06a-96b4c8e7f67c\",\n",
      "    \"todoist_note_id\": 2702815411\n",
      "}\n",
      "\n",
      " Updates: []\n",
      ": no change\n",
      "\n",
      "\n",
      "\n",
      "---------------------------------\n",
      "\n",
      " Notion task: Task: Task 1\n",
      " {\n",
      "    \"source\": \"notion\",\n",
      "    \"task_id\": 4281150580,\n",
      "    \"content\": \"Task 1\",\n",
      "    \"done\": false,\n",
      "    \"due\": \"2020-10-30\",\n",
      "    \"label_ids\": [\n",
      "        2155428350,\n",
      "        2155428355\n",
      "    ],\n",
      "    \"label_names\": [\n",
      "        \"Doing\",\n",
      "        \"email\"\n",
      "    ],\n",
      "    \"project_id\": 2248315288,\n",
      "    \"project_name\": \"Project 1\",\n",
      "    \"notion_task_id\": \"d979422d-2f26-419e-9825-fdeb5a3d94fb\",\n",
      "    \"notion_project_id\": \"043094db-bc90-4d4e-a02a-a5ae01abd937\",\n",
      "    \"todoist_note_id\": null\n",
      "}\n",
      "Task: \"Task 1\"\n",
      " Todoist task: Task: Task 1\n",
      " {\n",
      "    \"source\": \"todoist\",\n",
      "    \"task_id\": 4281150580,\n",
      "    \"content\": \"Task 1\",\n",
      "    \"done\": false,\n",
      "    \"due\": \"2020-10-30\",\n",
      "    \"label_ids\": [\n",
      "        2155428350,\n",
      "        2155428355\n",
      "    ],\n",
      "    \"label_names\": [\n",
      "        \"Doing\",\n",
      "        \"email\"\n",
      "    ],\n",
      "    \"project_id\": 2248315288,\n",
      "    \"project_name\": \"Project 1\",\n",
      "    \"notion_task_id\": \"d979422d-2f26-419e-9825-fdeb5a3d94fb\",\n",
      "    \"notion_project_id\": \"043094db-bc90-4d4e-a02a-a5ae01abd937\",\n",
      "    \"todoist_note_id\": 2702815455\n",
      "}\n",
      "\n",
      " Updates: []\n",
      ": no change\n",
      "\n",
      "\n",
      "\n",
      "---------------------------------\n",
      "\n",
      " Notion task: Task: Task 2\n",
      " {\n",
      "    \"source\": \"notion\",\n",
      "    \"task_id\": 4281150465,\n",
      "    \"content\": \"Task 2\",\n",
      "    \"done\": false,\n",
      "    \"due\": \"2020-11-03\",\n",
      "    \"label_ids\": [\n",
      "        2155428351,\n",
      "        2155428356,\n",
      "        2155428355\n",
      "    ],\n",
      "    \"label_names\": [\n",
      "        \"Todo\",\n",
      "        \"quick\",\n",
      "        \"email\"\n",
      "    ],\n",
      "    \"project_id\": 2248315290,\n",
      "    \"project_name\": \"Project 2\",\n",
      "    \"notion_task_id\": \"e7daabd7-822c-4d0b-a8f8-f702ca58aab6\",\n",
      "    \"notion_project_id\": \"76e92edb-93e1-49ec-a445-bf40bd2ca46e\",\n",
      "    \"todoist_note_id\": null\n",
      "}\n",
      "Task: \"Task 2\"\n",
      " Todoist task: Task: Task 2\n",
      " {\n",
      "    \"source\": \"todoist\",\n",
      "    \"task_id\": 4281150465,\n",
      "    \"content\": \"Task 2\",\n",
      "    \"done\": false,\n",
      "    \"due\": \"2020-11-03\",\n",
      "    \"label_ids\": [\n",
      "        2155428351,\n",
      "        2155428355,\n",
      "        2155428356\n",
      "    ],\n",
      "    \"label_names\": [\n",
      "        \"Todo\",\n",
      "        \"email\",\n",
      "        \"quick\"\n",
      "    ],\n",
      "    \"project_id\": 2248315290,\n",
      "    \"project_name\": \"Project 2\",\n",
      "    \"notion_task_id\": \"e7daabd7-822c-4d0b-a8f8-f702ca58aab6\",\n",
      "    \"notion_project_id\": \"76e92edb-93e1-49ec-a445-bf40bd2ca46e\",\n",
      "    \"todoist_note_id\": 2702815448\n",
      "}\n",
      "\n",
      "    label_ids: t̶o̶d̶o̶i̶s̶t̶:̶ ̶[̶2̶1̶5̶5̶4̶2̶8̶3̶5̶1̶,̶ ̶2̶1̶5̶5̶4̶2̶8̶3̶5̶5̶,̶ ̶2̶1̶5̶5̶4̶2̶8̶3̶5̶6̶]̶ ⮕ notion: [2155428351, 2155428356, 2155428355]\n",
      "    label_names: t̶o̶d̶o̶i̶s̶t̶:̶ ̶[̶'̶T̶o̶d̶o̶'̶,̶ ̶'̶e̶m̶a̶i̶l̶'̶,̶ ̶'̶q̶u̶i̶c̶k̶'̶]̶ ⮕ notion: ['Todo', 'quick', 'email']\n",
      "\n",
      " Updates: ['label_ids', 'label_names']\n",
      "\n",
      "checking label column status of type select\n",
      "Found a match with label id 2155428351: To Do\n",
      "\n",
      "checking label column tags of type multi_select\n",
      "Found a match with label id 2155428356: quick\n",
      "Found a match with label id 2155428355: email\n",
      "Added 0 and updated 2 tasks.\n"
     ]
    }
   ],
   "source": [
    "taskManager.sync_notion_to_todoist(man, full_sync=True)"
   ]
  },
  {
   "cell_type": "code",
   "execution_count": 78,
   "metadata": {},
   "outputs": [
    {
     "data": {
      "text/plain": [
       "['Quick', 'Todo', 'email']"
      ]
     },
     "execution_count": 78,
     "metadata": {},
     "output_type": "execute_result"
    }
   ],
   "source": [
    "sorted(['Todo', 'Quick', 'email'])"
   ]
  },
  {
   "cell_type": "code",
   "execution_count": 72,
   "metadata": {},
   "outputs": [],
   "source": [
    "man.update_notion_sync_time()"
   ]
  },
  {
   "cell_type": "code",
   "execution_count": 73,
   "metadata": {},
   "outputs": [
    {
     "data": {
      "text/plain": [
       "datetime.datetime(2020, 10, 24, 16, 26, 12, 839307)"
      ]
     },
     "execution_count": 73,
     "metadata": {},
     "output_type": "execute_result"
    }
   ],
   "source": [
    "man.last_notion_sync_time"
   ]
  },
  {
   "cell_type": "code",
   "execution_count": 61,
   "metadata": {},
   "outputs": [
    {
     "data": {
      "text/plain": [
       "[\n",
       "  <CollectionRowBlock (id='60a2dc47-35d4-47a1-b59c-30e70a54afdf', title='Last notion sync time')>,\n",
       "]"
      ]
     },
     "execution_count": 61,
     "metadata": {},
     "output_type": "execute_result"
    }
   ],
   "source": [
    "man.settings.collection.get_rows(search=\"Last notion sync time\")"
   ]
  },
  {
   "cell_type": "markdown",
   "metadata": {},
   "source": [
    "### encrpytion"
   ]
  },
  {
   "cell_type": "code",
   "execution_count": 22,
   "metadata": {},
   "outputs": [],
   "source": [
    "import base64\n",
    "import hashlib\n",
    "import hmac"
   ]
  },
  {
   "cell_type": "code",
   "execution_count": 48,
   "metadata": {},
   "outputs": [],
   "source": [
    "def compute_hmac(body):\n",
    "\n",
    "    signature = base64.b64encode(hmac.new(\n",
    "        \"secretpassword\".encode('utf-8'),\n",
    "        body.encode('utf-8'),\n",
    "        digestmod=hashlib.sha256).digest()).decode('utf-8')\n",
    "    return signature"
   ]
  },
  {
   "cell_type": "code",
   "execution_count": 57,
   "metadata": {},
   "outputs": [
    {
     "data": {
      "text/plain": [
       "'aBDj5zLaMcPbTGSYGXwErGT3Cq9zRX4QoKRet+YrE30='"
      ]
     },
     "execution_count": 57,
     "metadata": {},
     "output_type": "execute_result"
    }
   ],
   "source": [
    "compute_hmac(\"test\")"
   ]
  }
 ],
 "metadata": {
  "kernelspec": {
   "display_name": "notion-to-doist",
   "language": "python",
   "name": "notion-to-doist"
  },
  "language_info": {
   "codemirror_mode": {
    "name": "ipython",
    "version": 3
   },
   "file_extension": ".py",
   "mimetype": "text/x-python",
   "name": "python",
   "nbconvert_exporter": "python",
   "pygments_lexer": "ipython3",
   "version": "3.6.5"
  }
 },
 "nbformat": 4,
 "nbformat_minor": 4
}
