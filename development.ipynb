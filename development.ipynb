{
 "cells": [
  {
   "cell_type": "markdown",
   "metadata": {},
   "source": [
    "# notion to todoist development notebook"
   ]
  },
  {
   "cell_type": "code",
   "execution_count": 1,
   "metadata": {},
   "outputs": [],
   "source": [
    "import os\n",
    "import notion\n",
    "from notion.client import NotionClient\n",
    "from todoist.api import TodoistAPI\n",
    "\n",
    "import tools\n",
    "from bidict import bidict\n",
    "from datetime import datetime, timezone"
   ]
  },
  {
   "cell_type": "code",
   "execution_count": 2,
   "metadata": {},
   "outputs": [],
   "source": [
    "%load_ext autoreload\n",
    "%autoreload 2"
   ]
  },
  {
   "cell_type": "code",
   "execution_count": 43,
   "metadata": {},
   "outputs": [],
   "source": [
    "todoist_token = \"ab9df4df62681fd519648c413750c611cad02048\"\n",
    "notion_token = \"a2ae36c266053a72fc564b418a1f578d736228f614ab5925be62f22383894f550dd53004bb48005e699e101a94e00008d23fd6eff24286a48f62f943d3e427ddb14092ffcf94df25e58dd939bfc8\"\n",
    "notion_settings = \"https://www.notion.so/jarredgreen/c1c3fea02d4c4a52bfece58af9c407c3?v=ad00b0ae035344caa12f664c7efe7d77\""
   ]
  },
  {
   "cell_type": "code",
   "execution_count": 149,
   "metadata": {},
   "outputs": [],
   "source": [
    "man = tools.syncManager(\n",
    "    todoist_token=todoist_token,\n",
    "    notion_token=notion_token,\n",
    "    notion_settings_url=notion_settings\n",
    ")"
   ]
  },
  {
   "cell_type": "markdown",
   "metadata": {},
   "source": [
    "### time zone rules"
   ]
  },
  {
   "cell_type": "code",
   "execution_count": 398,
   "metadata": {},
   "outputs": [],
   "source": [
    "row = man.tasks.collection.get_rows(search=\"Task J\")[0]"
   ]
  },
  {
   "cell_type": "code",
   "execution_count": 399,
   "metadata": {},
   "outputs": [],
   "source": [
    "item = tools.taskManager.from_notion(man, row)\n",
    "itemt = tools.taskManager.from_todoist(man, man.api.items.get_by_id(4242733583))"
   ]
  },
  {
   "cell_type": "code",
   "execution_count": 400,
   "metadata": {},
   "outputs": [
    {
     "data": {
      "text/plain": [
       "False"
      ]
     },
     "execution_count": 400,
     "metadata": {},
     "output_type": "execute_result"
    }
   ],
   "source": [
    "item == itemt"
   ]
  },
  {
   "cell_type": "code",
   "execution_count": 385,
   "metadata": {},
   "outputs": [
    {
     "name": "stdout",
     "output_type": "stream",
     "text": [
      "Syncing labels...\n",
      "Done syncing labels. 0 label(s) added and 0 label(s) updated\n"
     ]
    }
   ],
   "source": [
    "tools.labelManager.sync_labels_to_todoist(man)"
   ]
  },
  {
   "cell_type": "code",
   "execution_count": 386,
   "metadata": {},
   "outputs": [
    {
     "name": "stdout",
     "output_type": "stream",
     "text": [
      "Syncing projects...\n",
      "Done syncing projects. 0 project(s) added and 0 projects(s) updated\n"
     ]
    }
   ],
   "source": [
    "tools.projectManager.sync_projects(man)"
   ]
  },
  {
   "cell_type": "code",
   "execution_count": 387,
   "metadata": {},
   "outputs": [
    {
     "name": "stdout",
     "output_type": "stream",
     "text": [
      "Syncing notion tasks to todoist...\n",
      "Task: \"Task J\"\n",
      "    due: t̶o̶d̶o̶i̶s̶t̶:̶ ̶2̶0̶2̶0̶-̶1̶0̶-̶1̶3̶ ⮕ notion: 2020-10-15\n",
      "    label_ids: t̶o̶d̶o̶i̶s̶t̶:̶ ̶[̶2̶1̶5̶5̶3̶3̶5̶5̶5̶0̶,̶ ̶2̶1̶5̶5̶3̶0̶5̶7̶3̶0̶]̶ ⮕ notion: [2155335548, 2155305730, 2155305731]\n",
      "    label_names: t̶o̶d̶o̶i̶s̶t̶:̶ ̶[̶'̶W̶a̶i̶t̶i̶n̶g̶'̶,̶ ̶'̶e̶m̶a̶i̶l̶'̶]̶ ⮕ notion: ['Doing', 'email', 'quick']\n",
      "    notion_task_id: t̶o̶d̶o̶i̶s̶t̶:̶ ̶N̶o̶n̶e̶ ⮕ notion: 14f7e60e-183a-4fef-8866-e1272e6f29ef\n",
      "2020-10-15\n",
      "Task: \"Task F\": no change\n",
      "Task: \"Task D\": no change\n",
      "Task: \"Task E\"\n",
      "    label_ids: t̶o̶d̶o̶i̶s̶t̶:̶ ̶[̶2̶1̶5̶5̶3̶0̶5̶7̶3̶0̶]̶ ⮕ notion: [2155335547, 2155305730]\n",
      "    label_names: t̶o̶d̶o̶i̶s̶t̶:̶ ̶[̶'̶e̶m̶a̶i̶l̶'̶]̶ ⮕ notion: ['Urgent', 'email']\n",
      "Task: \"Task C\": no change\n",
      "Task: \"Task A\": no change\n",
      "Task: \"Task B\": no change\n",
      "Added 0 and updated 2 tasks.\n"
     ]
    }
   ],
   "source": [
    "tools.taskManager.sync_notion_to_todoist(man)"
   ]
  },
  {
   "cell_type": "code",
   "execution_count": 402,
   "metadata": {},
   "outputs": [
    {
     "data": {
      "text/plain": [
       "{'collaborator_states': [],\n",
       " 'collaborators': [],\n",
       " 'day_orders': {},\n",
       " 'day_orders_timestamp': '1344642991.1',\n",
       " 'due_exceptions': [],\n",
       " 'filters': [],\n",
       " 'full_sync': False,\n",
       " 'items': [{'added_by_uid': 30222014,\n",
       "   'assigned_by_uid': None,\n",
       "   'checked': 0,\n",
       "   'child_order': 2,\n",
       "   'collapsed': 0,\n",
       "   'content': 'Task J',\n",
       "   'date_added': '2020-10-09T16:07:13Z',\n",
       "   'date_completed': None,\n",
       "   'day_order': -1,\n",
       "   'due': {'date': '2020-10-17',\n",
       "    'is_recurring': False,\n",
       "    'lang': 'en',\n",
       "    'string': '17 Oct',\n",
       "    'timezone': None},\n",
       "   'id': 4242733583,\n",
       "   'in_history': 0,\n",
       "   'is_deleted': 0,\n",
       "   'labels': [2155335548, 2155305731],\n",
       "   'parent_id': None,\n",
       "   'priority': 1,\n",
       "   'project_id': 2246872894,\n",
       "   'responsible_uid': None,\n",
       "   'section_id': None,\n",
       "   'sync_id': None,\n",
       "   'user_id': 30222014}],\n",
       " 'labels': [],\n",
       " 'live_notifications': [],\n",
       " 'live_notifications_last_read_id': 0,\n",
       " 'notes': [],\n",
       " 'project_notes': [],\n",
       " 'projects': [],\n",
       " 'reminders': [],\n",
       " 'sections': [],\n",
       " 'sync_token': 'QNBEhOk7cLU9XkEbDA6UTrNS3UOOsJ72_PD48OZj5QmDUioLzhdzj0lrhNCtnygAYjuuJUNRIyRWddRdn3RFSaMAENafexsG5Zohn8C5i1Cnph8',\n",
       " 'temp_id_mapping': {},\n",
       " 'view_options': []}"
      ]
     },
     "execution_count": 402,
     "metadata": {},
     "output_type": "execute_result"
    }
   ],
   "source": [
    "man.new_sync"
   ]
  },
  {
   "cell_type": "code",
   "execution_count": 404,
   "metadata": {},
   "outputs": [
    {
     "data": {
      "text/plain": [
       "[\n",
       "  <CollectionRowBlock (id='14f7e60e-183a-4fef-8866-e1272e6f29ef', title='Task J')>,\n",
       "]"
      ]
     },
     "execution_count": 404,
     "metadata": {},
     "output_type": "execute_result"
    }
   ],
   "source": [
    "man.tasks.collection.get_rows(search=\"4242733583\")"
   ]
  },
  {
   "cell_type": "code",
   "execution_count": 415,
   "metadata": {},
   "outputs": [
    {
     "name": "stdout",
     "output_type": "stream",
     "text": [
      "Updating task \"Task J\":\n",
      "\n",
      "    label_ids: n̶o̶t̶i̶o̶n̶:̶ ̶[̶2̶1̶5̶5̶3̶0̶5̶7̶3̶0̶]̶ ⮕ todoist: [2155305731]\n",
      "    label_names: n̶o̶t̶i̶o̶n̶:̶ ̶[̶'̶e̶m̶a̶i̶l̶'̶]̶ ⮕ todoist: ['quick']\n",
      "    project_id: n̶o̶t̶i̶o̶n̶:̶ ̶2̶2̶4̶6̶8̶7̶2̶8̶9̶4̶ ⮕ todoist: 2246872891\n",
      "    project_name: n̶o̶t̶i̶o̶n̶:̶ ̶P̶r̶o̶j̶e̶c̶t̶ ̶3̶ ⮕ todoist: Project 2\n",
      "    notion_task_id: t̶o̶d̶o̶i̶s̶t̶:̶ ̶N̶o̶n̶e̶ ⮕ notion: 14f7e60e-183a-4fef-8866-e1272e6f29ef\n",
      "    notion_project_id: n̶o̶t̶i̶o̶n̶:̶ ̶9̶f̶9̶2̶c̶a̶f̶1̶-̶5̶c̶3̶1̶-̶4̶9̶5̶7̶-̶a̶0̶6̶a̶-̶9̶6̶b̶4̶c̶8̶e̶7̶f̶6̶7̶c̶ ⮕ todoist: 76e92edb-93e1-49ec-a445-bf40bd2ca46e\n"
     ]
    }
   ],
   "source": [
    "tools.taskManager.webhook_arrived(man, {\"event_name\": \"item:updated\"})"
   ]
  },
  {
   "cell_type": "code",
   "execution_count": 6,
   "metadata": {},
   "outputs": [],
   "source": [
    "from requests_oauthlib import OAuth2Session"
   ]
  },
  {
   "cell_type": "code",
   "execution_count": 21,
   "metadata": {},
   "outputs": [],
   "source": [
    "todoist = OAuth2Session(man.config[\"Client ID\"], scope=\"data:read_write\")"
   ]
  },
  {
   "cell_type": "code",
   "execution_count": 22,
   "metadata": {},
   "outputs": [
    {
     "name": "stdout",
     "output_type": "stream",
     "text": [
      "Please go here and authorize, https://todoist.com/oauth/authorize?response_type=code&client_id=0b7b85201e354541b4bddd4fb83ebf9d&scope=data%3Aread_write&state=txqxxd4jtnvSG0Zns44nvGFyJPYekm\n"
     ]
    }
   ],
   "source": [
    "authorization_url, state = todoist.authorization_url(\"https://todoist.com/oauth/authorize\", )\n",
    "print('Please go here and authorize,', authorization_url)"
   ]
  },
  {
   "cell_type": "code",
   "execution_count": 23,
   "metadata": {},
   "outputs": [
    {
     "data": {
      "text/plain": [
       "{'access_token': '40b7a462aaa63b0f869055f2ef5b8221ea9df486',\n",
       " 'token_type': 'Bearer'}"
      ]
     },
     "execution_count": 23,
     "metadata": {},
     "output_type": "execute_result"
    }
   ],
   "source": [
    "#todoist.fetch_token(token_url=\"https://todoist.com/oauth/access_token/\",\n",
    "                    code=\"1c1a778a7b8127c9642a59fd777903e518981095\",\n",
    "                    include_client_id=True,\n",
    "                    client_secret=man.config[\"Client secret\"])"
   ]
  },
  {
   "cell_type": "code",
   "execution_count": 28,
   "metadata": {},
   "outputs": [],
   "source": [
    "x = todoist.post(url=\"https://todoist.com/oauth/access_token/\",\n",
    "             data={\n",
    "                 \"client_id\": man.config[\"Client ID\"],\n",
    "                 \"client_secret\": man.config[\"Client secret\"],\n",
    "                 \"code\": \"1c1a778a7b8127c9642a59fd777903e518981095\"\n",
    "             })"
   ]
  },
  {
   "cell_type": "code",
   "execution_count": 29,
   "metadata": {},
   "outputs": [
    {
     "data": {
      "text/plain": [
       "b'{\"access_token\":\"f112d85a22ed1b7cb7f9be5d3cc1dc16b2a601c7\",\"token_type\":\"Bearer\"}'"
      ]
     },
     "execution_count": 29,
     "metadata": {},
     "output_type": "execute_result"
    }
   ],
   "source": [
    "x.content"
   ]
  },
  {
   "cell_type": "code",
   "execution_count": null,
   "metadata": {},
   "outputs": [],
   "source": []
  }
 ],
 "metadata": {
  "kernelspec": {
   "display_name": "notion",
   "language": "python",
   "name": "notion"
  },
  "language_info": {
   "codemirror_mode": {
    "name": "ipython",
    "version": 3
   },
   "file_extension": ".py",
   "mimetype": "text/x-python",
   "name": "python",
   "nbconvert_exporter": "python",
   "pygments_lexer": "ipython3",
   "version": "3.7.8"
  }
 },
 "nbformat": 4,
 "nbformat_minor": 2
}
