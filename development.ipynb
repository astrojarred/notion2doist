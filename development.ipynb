{
 "cells": [
  {
   "cell_type": "markdown",
   "metadata": {},
   "source": [
    "# notion to todoist development notebook"
   ]
  },
  {
   "cell_type": "code",
   "execution_count": 292,
   "metadata": {},
   "outputs": [],
   "source": [
    "import os\n",
    "import notion\n",
    "from notion.client import NotionClient\n",
    "from todoist.api import TodoistAPI\n",
    "\n",
    "import tools\n",
    "from bidict import bidict\n",
    "from datetime import datetime, timezone"
   ]
  },
  {
   "cell_type": "code",
   "execution_count": 4,
   "metadata": {},
   "outputs": [],
   "source": [
    "%load_ext autoreload\n",
    "%autoreload 2"
   ]
  },
  {
   "cell_type": "code",
   "execution_count": 5,
   "metadata": {},
   "outputs": [],
   "source": [
    "todoist_token = \"ab9df4df62681fd519648c413750c611cad02048\"\n",
    "notion_token = \"a2ae36c266053a72fc564b418a1f578d736228f614ab5925be62f22383894f550dd53004bb48005e699e101a94e00008d23fd6eff24286a48f62f943d3e427ddb14092ffcf94df25e58dd939bfc8\"\n",
    "notion_settings = \"https://www.notion.so/jarredgreen/8160da398cf544819c41897865dea6b4?v=8176a9e310ac48bc8f514a068415a431\""
   ]
  },
  {
   "cell_type": "code",
   "execution_count": 80,
   "metadata": {},
   "outputs": [],
   "source": [
    "man = tools.syncManager(\n",
    "    todoist_token=todoist_token,\n",
    "    notion_token=notion_token,\n",
    "    notion_settings_url=notion_settings\n",
    ")"
   ]
  },
  {
   "cell_type": "markdown",
   "metadata": {},
   "source": [
    "### time zone rules"
   ]
  },
  {
   "cell_type": "code",
   "execution_count": 62,
   "metadata": {},
   "outputs": [],
   "source": [
    "x = man.tasks.collection.get_rows(search=\"Work on GRB\")[0]"
   ]
  },
  {
   "cell_type": "code",
   "execution_count": 84,
   "metadata": {},
   "outputs": [],
   "source": [
    "p = x.last_edited"
   ]
  },
  {
   "cell_type": "code",
   "execution_count": 91,
   "metadata": {},
   "outputs": [
    {
     "data": {
      "text/plain": [
       "datetime.datetime(2020, 10, 2, 11, 37, tzinfo=datetime.timezone(datetime.timedelta(seconds=7200), 'CEST'))"
      ]
     },
     "execution_count": 91,
     "metadata": {},
     "output_type": "execute_result"
    }
   ],
   "source": [
    "p.replace(tzinfo=timezone.utc).astimezone(tz=None)"
   ]
  },
  {
   "cell_type": "code",
   "execution_count": 282,
   "metadata": {},
   "outputs": [],
   "source": [
    "row = man.tasks.collection.get_rows(search=\"Add task sync from notion to todoist\")[0]"
   ]
  },
  {
   "cell_type": "code",
   "execution_count": 165,
   "metadata": {},
   "outputs": [],
   "source": [
    "item = tools.taskManager.from_notion(man, row)"
   ]
  },
  {
   "cell_type": "code",
   "execution_count": 307,
   "metadata": {},
   "outputs": [
    {
     "data": {
      "text/plain": [
       "datetime.date(2020, 10, 8)"
      ]
     },
     "execution_count": 307,
     "metadata": {},
     "output_type": "execute_result"
    }
   ],
   "source": [
    "datetime.strptime(item.due, \"%Y-%m-%d\").date()"
   ]
  },
  {
   "cell_type": "code",
   "execution_count": 322,
   "metadata": {},
   "outputs": [
    {
     "data": {
      "text/plain": [
       "(['Todo⚙️', 'email', 'quick'], [2155295024, 2155305730, 2155305731])"
      ]
     },
     "execution_count": 322,
     "metadata": {},
     "output_type": "execute_result"
    }
   ],
   "source": [
    "tools.labelManager.get_notion_labels(man,man.tasks.collection.get_rows(search=\"Add task sync from notion to todoist\")[0])"
   ]
  },
  {
   "cell_type": "code",
   "execution_count": 335,
   "metadata": {},
   "outputs": [
    {
     "name": "stdout",
     "output_type": "stream",
     "text": [
      "Urgent! 🔥 status\n",
      "Doing 🔭 status\n",
      "To Do ⚙️ status\n",
      "Waiting ⏳ status\n",
      "Someday 💤 status\n",
      "Done 🙌 status\n",
      "email tags\n",
      "quick tags\n"
     ]
    }
   ],
   "source": [
    "for row in man.labels.collection.get_rows():\n",
    "    print(row.title, row.relevant_columns)"
   ]
  },
  {
   "cell_type": "code",
   "execution_count": 348,
   "metadata": {},
   "outputs": [],
   "source": [
    "man.tasks.collection."
   ]
  },
  {
   "cell_type": "code",
   "execution_count": 340,
   "metadata": {},
   "outputs": [
    {
     "data": {
      "text/plain": [
       "'tags'"
      ]
     },
     "execution_count": 340,
     "metadata": {},
     "output_type": "execute_result"
    }
   ],
   "source": [
    "row.relevant_columns"
   ]
  },
  {
   "cell_type": "code",
   "execution_count": 141,
   "metadata": {},
   "outputs": [
    {
     "data": {
      "text/plain": [
       "(4227901993, 2690082666)"
      ]
     },
     "execution_count": 141,
     "metadata": {},
     "output_type": "execute_result"
    }
   ],
   "source": [
    "tools.taskManager.to_todoist(manager=man, item=item)"
   ]
  },
  {
   "cell_type": "code",
   "execution_count": 178,
   "metadata": {},
   "outputs": [],
   "source": [
    "man.sync_todoist_api()"
   ]
  },
  {
   "cell_type": "code",
   "execution_count": 180,
   "metadata": {},
   "outputs": [],
   "source": [
    "itemt = tools.taskManager.from_todoist(man, man.api.items.get_by_id(4227901993))"
   ]
  },
  {
   "cell_type": "code",
   "execution_count": 193,
   "metadata": {},
   "outputs": [],
   "source": [
    "dict(a=5).update(a=4)"
   ]
  },
  {
   "cell_type": "code",
   "execution_count": 246,
   "metadata": {},
   "outputs": [],
   "source": [
    "def strike(text):\n",
    "    result = ''\n",
    "    for c in str(text):\n",
    "        result = result + c + '\\u0336'\n",
    "    return result\n",
    "\n",
    "def compare_two_tasks(manager, task1, task2):\n",
    "    \"\"\"task 1 takes priority over task 2 if there are differences,\n",
    "       usually task1 is notion version and task2 is the todoist version.\"\"\"\n",
    "    \n",
    "    task1_dict = task1.__dict__\n",
    "    task2_dict = task2.__dict__\n",
    "    \n",
    "    new_task_dict = task1_dict.copy()\n",
    "    updated_properties = []\n",
    "    \n",
    "    for (key, value1), value2 in zip(task1_dict.items(), task2_dict.values()):\n",
    "        if value1 != value2 and key != \"source\":  # exclude the \"source\" item\n",
    "            updated_properties.append(key)\n",
    "            \n",
    "            if value1 is None:\n",
    "                print(f\"{key}: {strike(task1_dict['source'] + ': ' + str(value1))} -> {task2_dict['source'] + ': ' + str(value2)}\")\n",
    "                new_task_dict[key] = value2\n",
    "            else:\n",
    "                print(f\"{key}: {strike(task2_dict['source'] + ': ' + str(value2))} -> {task1_dict['source'] + ': ' + str(value1)}\")\n",
    "                new_task_dict[key] = value1\n",
    "        else:\n",
    "            new_task_dict[key] = value1\n",
    "            \n",
    "    new_task = tools.task(source=\"merged\",\n",
    "                          task_id = new_task_dict[\"task_id\"],\n",
    "                          notion_task_id = new_task_dict[\"notion_task_id\"],\n",
    "                          content=new_task_dict[\"content\"],\n",
    "                          done=new_task_dict[\"done\"],\n",
    "                          due=new_task_dict[\"due\"],\n",
    "                          label_ids=new_task_dict[\"label_ids\"],\n",
    "                          label_names=new_task_dict[\"label_names\"],\n",
    "                          project_id=new_task_dict[\"project_id\"],\n",
    "                          notion_project_id=new_task_dict[\"notion_project_id\"],\n",
    "                          project_name=new_task_dict[\"project_name\"],\n",
    "                          todoist_note_id=new_task_dict[\"todoist_note_id\"],\n",
    "            )\n",
    "    \n",
    "    return new_task, updated_properties\n",
    "            \n",
    "    "
   ]
  },
  {
   "cell_type": "code",
   "execution_count": 248,
   "metadata": {},
   "outputs": [
    {
     "data": {
      "text/plain": [
       "dict_keys(['source', 'task_id', 'content', 'done', 'due', 'label_ids', 'label_names', 'project_id', 'project_name', 'notion_task_id', 'notion_project_id', 'todoist_note_id'])"
      ]
     },
     "execution_count": 248,
     "metadata": {},
     "output_type": "execute_result"
    }
   ],
   "source": [
    "item.__dict__.keys()"
   ]
  },
  {
   "cell_type": "code",
   "execution_count": 247,
   "metadata": {},
   "outputs": [
    {
     "name": "stdout",
     "output_type": "stream",
     "text": [
      "task_id: n̶o̶t̶i̶o̶n̶:̶ ̶N̶o̶n̶e̶ -> todoist: 4227901993\n",
      "label_ids: t̶o̶d̶o̶i̶s̶t̶:̶ ̶[̶2̶1̶5̶5̶2̶9̶5̶0̶2̶4̶,̶ ̶2̶1̶5̶5̶3̶0̶5̶7̶3̶0̶]̶ -> notion: [2155295024, 2155305730, 2155305731]\n",
      "label_names: t̶o̶d̶o̶i̶s̶t̶:̶ ̶[̶'̶T̶o̶d̶o̶⚙̶️̶'̶,̶ ̶'̶e̶m̶a̶i̶l̶'̶]̶ -> notion: ['Todo⚙️', 'email', 'quick']\n",
      "todoist_note_id: n̶o̶t̶i̶o̶n̶:̶ ̶N̶o̶n̶e̶ -> todoist: 2690082666\n"
     ]
    },
    {
     "data": {
      "text/plain": [
       "(Task: Add task sync from notion to todoist\n",
       "  {\n",
       "     \"source\": \"merged\",\n",
       "     \"task_id\": 4227901993,\n",
       "     \"content\": \"Add task sync from notion to todoist\",\n",
       "     \"done\": false,\n",
       "     \"due\": \"2020-10-08\",\n",
       "     \"label_ids\": [\n",
       "         2155295024,\n",
       "         2155305730,\n",
       "         2155305731\n",
       "     ],\n",
       "     \"label_names\": [\n",
       "         \"Todo\\u2699\\ufe0f\",\n",
       "         \"email\",\n",
       "         \"quick\"\n",
       "     ],\n",
       "     \"project_id\": 2246178573,\n",
       "     \"project_name\": \"Notion + Todoist\",\n",
       "     \"notion_task_id\": \"22f46ce5-2ce8-41fa-8c7c-a107b579e25a\",\n",
       "     \"notion_project_id\": \"d35d2707-8e9e-4d1c-8993-1085f2b6435a\",\n",
       "     \"todoist_note_id\": 2690082666\n",
       " },\n",
       " ['task_id', 'label_ids', 'label_names', 'todoist_note_id'])"
      ]
     },
     "execution_count": 247,
     "metadata": {},
     "output_type": "execute_result"
    }
   ],
   "source": [
    "compare_two_tasks(man, item, itemt)"
   ]
  },
  {
   "cell_type": "code",
   "execution_count": 244,
   "metadata": {},
   "outputs": [],
   "source": [
    "test_item = man.api.items.get_by_id(4227901993)"
   ]
  },
  {
   "cell_type": "code",
   "execution_count": null,
   "metadata": {},
   "outputs": [],
   "source": [
    "test_item.update()"
   ]
  }
 ],
 "metadata": {
  "kernelspec": {
   "display_name": "notion",
   "language": "python",
   "name": "notion"
  },
  "language_info": {
   "codemirror_mode": {
    "name": "ipython",
    "version": 3
   },
   "file_extension": ".py",
   "mimetype": "text/x-python",
   "name": "python",
   "nbconvert_exporter": "python",
   "pygments_lexer": "ipython3",
   "version": "3.7.8"
  }
 },
 "nbformat": 4,
 "nbformat_minor": 2
}
