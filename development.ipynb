{
 "cells": [
  {
   "cell_type": "markdown",
   "metadata": {},
   "source": [
    "# notion to todoist development notebook"
   ]
  },
  {
   "cell_type": "code",
   "execution_count": 1,
   "metadata": {},
   "outputs": [],
   "source": [
    "import os\n",
    "import notion\n",
    "from notion.client import NotionClient\n",
    "from todoist.api import TodoistAPI\n",
    "\n",
    "import tools\n",
    "from bidict import bidict"
   ]
  },
  {
   "cell_type": "code",
   "execution_count": 2,
   "metadata": {},
   "outputs": [],
   "source": [
    "%load_ext autoreload\n",
    "%autoreload 2"
   ]
  },
  {
   "cell_type": "code",
   "execution_count": 73,
   "metadata": {},
   "outputs": [],
   "source": [
    "todoist_token = \"ab9df4df62681fd519648c413750c611cad02048\"\n",
    "notion_token = \"a2ae36c266053a72fc564b418a1f578d736228f614ab5925be62f22383894f550dd53004bb48005e699e101a94e00008d23fd6eff24286a48f62f943d3e427ddb14092ffcf94df25e58dd939bfc8\"\n",
    "notion_settings = \"https://www.notion.so/jarredgreen/8160da398cf544819c41897865dea6b4?v=8176a9e310ac48bc8f514a068415a431\""
   ]
  },
  {
   "cell_type": "code",
   "execution_count": 78,
   "metadata": {},
   "outputs": [],
   "source": [
    "man = tools.taskManager(\n",
    "    todoist_token=todoist_token,\n",
    "    notion_token=notion_token,\n",
    "    notion_settings_url=notion_settings\n",
    ")"
   ]
  },
  {
   "cell_type": "code",
   "execution_count": 79,
   "metadata": {},
   "outputs": [
    {
     "data": {
      "text/plain": [
       "{'Label column name': 'status',\n",
       " 'Link to task database': 'jarredgreen/807530144ad34fbdb80ef60b5d2c6abb?v=d42bd594d5ed4542b3a99da3a816dd04',\n",
       " 'Link to project database': 'jarredgreen/3b3056e9605d41eabc2116bbf90bdf5f?v=f33fa518e7a840579bda12316bd1741d',\n",
       " 'Link to label database': 'jarredgreen/03ba76bc66f347d59c0a9b0463f75689?v=b0d56ba5ff1c49d286852e1a1fd8356c'}"
      ]
     },
     "execution_count": 79,
     "metadata": {},
     "output_type": "execute_result"
    }
   ],
   "source": [
    "man.config"
   ]
  },
  {
   "cell_type": "code",
   "execution_count": null,
   "metadata": {},
   "outputs": [],
   "source": []
  }
 ],
 "metadata": {
  "kernelspec": {
   "display_name": "notion",
   "language": "python",
   "name": "notion"
  },
  "language_info": {
   "codemirror_mode": {
    "name": "ipython",
    "version": 3
   },
   "file_extension": ".py",
   "mimetype": "text/x-python",
   "name": "python",
   "nbconvert_exporter": "python",
   "pygments_lexer": "ipython3",
   "version": "3.7.8"
  }
 },
 "nbformat": 4,
 "nbformat_minor": 2
}
